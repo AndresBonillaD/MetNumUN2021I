{
  "nbformat": 4,
  "nbformat_minor": 0,
  "metadata": {
    "kernelspec": {
      "display_name": "Python 3",
      "language": "python",
      "name": "python3"
    },
    "language_info": {
      "codemirror_mode": {
        "name": "ipython",
        "version": 3
      },
      "file_extension": ".py",
      "mimetype": "text/x-python",
      "name": "python",
      "nbconvert_exporter": "python",
      "pygments_lexer": "ipython3",
      "version": "3.6.4"
    },
    "colab": {
      "name": "aabonilladtutorial4.ipynb",
      "provenance": [],
      "collapsed_sections": []
    }
  },
  "cells": [
    {
      "cell_type": "markdown",
      "metadata": {
        "id": "oU5ejKqBtiK5"
      },
      "source": [
        "#Métodos Numéricos UN 2021\n",
        "\n",
        "Andres Alejandro Bonilla Duarte\n",
        "\n",
        "*aabonilld@unal.edu.co*\n",
        "\n",
        "Lab 4. QUANTCONECT. Tutorial 4."
      ]
    },
    {
      "cell_type": "code",
      "metadata": {
        "id": "3dYdEoeTbKkZ"
      },
      "source": [
        "import numpy as np"
      ],
      "execution_count": null,
      "outputs": []
    },
    {
      "cell_type": "code",
      "metadata": {
        "colab": {
          "base_uri": "https://localhost:8080/"
        },
        "id": "mjIYlZ1udewd",
        "outputId": "813bd593-3d98-48f2-9182-17532c8a92b8"
      },
      "source": [
        "#price_list = [143.73, 145.83, 143.68, 144.02, 143.5, 142.62]\n",
        "mypricelist = [1.3, 1.3, 1.3, 1.3, 1.3, 1.3]\n",
        "price_array = np.array(mypricelist)\n",
        "print(price_array, type(price_array))"
      ],
      "execution_count": null,
      "outputs": [
        {
          "output_type": "stream",
          "text": [
            "[1.3 1.3 1.3 1.3 1.3 1.3] <class 'numpy.ndarray'>\n"
          ],
          "name": "stdout"
        }
      ]
    },
    {
      "cell_type": "code",
      "metadata": {
        "id": "ILMGBoOKbKki",
        "outputId": "b1667169-bfee-495d-fc6b-2a5647f67c5b"
      },
      "source": [
        "price_list = [143.73, 145.83, 143.68, 144.02, 143.5, 142.62]\n",
        "price_array = np.array(price_list)\n",
        "print(price_array, type(price_array))"
      ],
      "execution_count": null,
      "outputs": [
        {
          "output_type": "stream",
          "text": [
            "[143.73 145.83 143.68 144.02 143.5  142.62] <class 'numpy.ndarray'>\n"
          ],
          "name": "stdout"
        }
      ]
    },
    {
      "cell_type": "code",
      "metadata": {
        "id": "35ptc5RybKkk",
        "outputId": "da1c9d7c-b349-4f31-8e93-a58927595b4e"
      },
      "source": [
        "Ar = np.array([[1,3],[2,4]])\n",
        "print(Ar, type(Ar))"
      ],
      "execution_count": null,
      "outputs": [
        {
          "output_type": "stream",
          "text": [
            "[[1 3]\n",
            " [2 4]] <class 'numpy.ndarray'>\n"
          ],
          "name": "stdout"
        }
      ]
    },
    {
      "cell_type": "code",
      "metadata": {
        "colab": {
          "base_uri": "https://localhost:8080/"
        },
        "id": "vsUTbVjTec06",
        "outputId": "c42ef9ed-d956-4375-bad9-f038359a4a07"
      },
      "source": [
        "myarray = np.array([[1,0],[0,1]])\n",
        "print(myarray)\n",
        "print(type(myarray))"
      ],
      "execution_count": null,
      "outputs": [
        {
          "output_type": "stream",
          "text": [
            "[[1 0]\n",
            " [0 1]]\n",
            "<class 'numpy.ndarray'>\n"
          ],
          "name": "stdout"
        }
      ]
    },
    {
      "cell_type": "code",
      "metadata": {
        "id": "QMPm7ZNlbKkk",
        "outputId": "a2cced3a-2078-44b9-861f-7bd6a876b760"
      },
      "source": [
        "print(Ar.shape)"
      ],
      "execution_count": null,
      "outputs": [
        {
          "output_type": "stream",
          "text": [
            "(2, 2)\n"
          ],
          "name": "stdout"
        }
      ]
    },
    {
      "cell_type": "code",
      "metadata": {
        "colab": {
          "base_uri": "https://localhost:8080/"
        },
        "id": "KUJa_5HTfyZ_",
        "outputId": "3b4e458c-5f7b-461e-9651-572755e60ed4"
      },
      "source": [
        "print(myarray.shape)"
      ],
      "execution_count": null,
      "outputs": [
        {
          "output_type": "stream",
          "text": [
            "(2, 2)\n"
          ],
          "name": "stdout"
        }
      ]
    },
    {
      "cell_type": "code",
      "metadata": {
        "id": "EGCX3AfQbKkl",
        "outputId": "5ccedd49-471e-4716-c933-51fd1a178326"
      },
      "source": [
        "print(Ar[0])\n",
        "print(Ar[1])"
      ],
      "execution_count": null,
      "outputs": [
        {
          "output_type": "stream",
          "text": [
            "[1 3]\n",
            "[2 4]\n"
          ],
          "name": "stdout"
        }
      ]
    },
    {
      "cell_type": "code",
      "metadata": {
        "colab": {
          "base_uri": "https://localhost:8080/"
        },
        "id": "t91vpEQQf1zq",
        "outputId": "3b4efef0-480c-4eb1-df45-84cb860f0f50"
      },
      "source": [
        "print(myarray[0])\n",
        "print(myarray[1])"
      ],
      "execution_count": null,
      "outputs": [
        {
          "output_type": "stream",
          "text": [
            "[1 0]\n",
            "[0 1]\n"
          ],
          "name": "stdout"
        }
      ]
    },
    {
      "cell_type": "code",
      "metadata": {
        "id": "56xLID-QbKkl",
        "outputId": "8b1984a4-8f58-4804-ac94-cc56b6ba45d1"
      },
      "source": [
        "print('the first column: ', Ar[:,0])\n",
        "print('the second column: ', Ar[:,1])"
      ],
      "execution_count": null,
      "outputs": [
        {
          "output_type": "stream",
          "text": [
            "the first column:  [1 2]\n",
            "the second column:  [3 4]\n"
          ],
          "name": "stdout"
        }
      ]
    },
    {
      "cell_type": "code",
      "metadata": {
        "colab": {
          "base_uri": "https://localhost:8080/"
        },
        "id": "b-6oNXvsf8az",
        "outputId": "951822a6-67c7-48e4-fbb1-f85c4df35bed"
      },
      "source": [
        "print('columna 0', myarray[:,0])\n",
        "print('columna 1', myarray[:,1])"
      ],
      "execution_count": null,
      "outputs": [
        {
          "output_type": "stream",
          "text": [
            "columna 0 [1 0]\n",
            "columna 1 [0 1]\n"
          ],
          "name": "stdout"
        }
      ]
    },
    {
      "cell_type": "code",
      "metadata": {
        "id": "qxEqfsv1bKkm",
        "outputId": "af914cf6-f566-4d38-858f-767e705622bf"
      },
      "source": [
        "print(np.log(price_array))"
      ],
      "execution_count": null,
      "outputs": [
        {
          "output_type": "stream",
          "text": [
            "[ 4.96793654  4.98244156  4.9675886   4.96995218  4.96633504  4.96018375]\n"
          ],
          "name": "stdout"
        }
      ]
    },
    {
      "cell_type": "code",
      "metadata": {
        "colab": {
          "base_uri": "https://localhost:8080/"
        },
        "id": "qnn8nbNBgYw0",
        "outputId": "37f3008a-a8ea-44d6-8301-40beaf359f9b"
      },
      "source": [
        "print(np.log(price_array))"
      ],
      "execution_count": null,
      "outputs": [
        {
          "output_type": "stream",
          "text": [
            "[0.26236426 0.26236426 0.26236426 0.26236426 0.26236426 0.26236426]\n"
          ],
          "name": "stdout"
        }
      ]
    },
    {
      "cell_type": "code",
      "metadata": {
        "id": "62QGXELzbKkm",
        "outputId": "61a71797-a70b-48a7-9dbd-bbed605d38bb"
      },
      "source": [
        "print(np.mean(price_array))\n",
        "print(np.std(price_array))\n",
        "print(np.sum(price_array))\n",
        "print(np.max(price_array))"
      ],
      "execution_count": null,
      "outputs": [
        {
          "output_type": "stream",
          "text": [
            "143.89666666666668\n",
            "0.9673790478515796\n",
            "863.38\n",
            "145.83\n"
          ],
          "name": "stdout"
        }
      ]
    },
    {
      "cell_type": "code",
      "metadata": {
        "colab": {
          "base_uri": "https://localhost:8080/"
        },
        "id": "L1lq2ZGlgnmS",
        "outputId": "36b3a8a1-5249-4231-9d93-661cabc4cbb9"
      },
      "source": [
        "print(np.mean(price_array))\n",
        "print(np.std(price_array))\n",
        "print(np.sum(price_array))\n",
        "print(np.max(price_array))"
      ],
      "execution_count": null,
      "outputs": [
        {
          "output_type": "stream",
          "text": [
            "1.3\n",
            "0.0\n",
            "7.8\n",
            "1.3\n"
          ],
          "name": "stdout"
        }
      ]
    },
    {
      "cell_type": "code",
      "metadata": {
        "id": "at-mxp3PbKkn"
      },
      "source": [
        "import pandas as pd"
      ],
      "execution_count": null,
      "outputs": []
    },
    {
      "cell_type": "code",
      "metadata": {
        "id": "eujKFCMmbKkn",
        "outputId": "3d6c3888-fec1-41bf-fa0c-97b1dc7b73bc"
      },
      "source": [
        "price = [143.73, 145.83, 143.68, 144.02, 143.5, 142.62]\n",
        "s = pd.Series(price)\n",
        "s"
      ],
      "execution_count": null,
      "outputs": [
        {
          "output_type": "execute_result",
          "data": {
            "text/plain": [
              "0    143.73\n",
              "1    145.83\n",
              "2    143.68\n",
              "3    144.02\n",
              "4    143.50\n",
              "5    142.62\n",
              "dtype: float64"
            ]
          },
          "metadata": {
            "tags": []
          },
          "execution_count": 10
        }
      ]
    },
    {
      "cell_type": "code",
      "metadata": {
        "colab": {
          "base_uri": "https://localhost:8080/"
        },
        "id": "lbpDXOZEhJ6-",
        "outputId": "fa443489-2e22-4bbd-f124-7ebb59403057"
      },
      "source": [
        "price = [1.73, 2.83, 3.68, 4.02, 5.5, 6.62]\n",
        "s = pd.Series(price)\n",
        "s"
      ],
      "execution_count": null,
      "outputs": [
        {
          "output_type": "execute_result",
          "data": {
            "text/plain": [
              "0    1.73\n",
              "1    2.83\n",
              "2    3.68\n",
              "3    4.02\n",
              "4    5.50\n",
              "5    6.62\n",
              "dtype: float64"
            ]
          },
          "metadata": {
            "tags": []
          },
          "execution_count": 16
        }
      ]
    },
    {
      "cell_type": "code",
      "metadata": {
        "id": "F0a_y36IbKko",
        "outputId": "f6499ebb-af00-4cee-aca3-ac744893d369"
      },
      "source": [
        "s = pd.Series(price,index = ['a','b','c','d','e','f'])\n",
        "s"
      ],
      "execution_count": null,
      "outputs": [
        {
          "output_type": "execute_result",
          "data": {
            "text/plain": [
              "a    143.73\n",
              "b    145.83\n",
              "c    143.68\n",
              "d    144.02\n",
              "e    143.50\n",
              "f    142.62\n",
              "dtype: float64"
            ]
          },
          "metadata": {
            "tags": []
          },
          "execution_count": 11
        }
      ]
    },
    {
      "cell_type": "code",
      "metadata": {
        "colab": {
          "base_uri": "https://localhost:8080/"
        },
        "id": "6mj8Q6bgh7Dm",
        "outputId": "f67ec010-e112-4934-81e4-b7b5cf120682"
      },
      "source": [
        "s = pd.Series(price,index = ['a0','b1','c2','d3','e4','f5'])\n",
        "s"
      ],
      "execution_count": null,
      "outputs": [
        {
          "output_type": "execute_result",
          "data": {
            "text/plain": [
              "a0    1.73\n",
              "b1    2.83\n",
              "c2    3.68\n",
              "d3    4.02\n",
              "e4    5.50\n",
              "f5    6.62\n",
              "dtype: float64"
            ]
          },
          "metadata": {
            "tags": []
          },
          "execution_count": 17
        }
      ]
    },
    {
      "cell_type": "code",
      "metadata": {
        "id": "nx9Mnn1IbKko",
        "outputId": "46e4fa70-af51-4390-b072-3db97e2c682c"
      },
      "source": [
        "s.index = [6,5,4,3,2,1]\n",
        "s"
      ],
      "execution_count": null,
      "outputs": [
        {
          "output_type": "execute_result",
          "data": {
            "text/plain": [
              "6    143.73\n",
              "5    145.83\n",
              "4    143.68\n",
              "3    144.02\n",
              "2    143.50\n",
              "1    142.62\n",
              "dtype: float64"
            ]
          },
          "metadata": {
            "tags": []
          },
          "execution_count": 12
        }
      ]
    },
    {
      "cell_type": "code",
      "metadata": {
        "colab": {
          "base_uri": "https://localhost:8080/"
        },
        "id": "xlWQZqARiDAA",
        "outputId": "14b1c795-fa69-4f7b-bbc3-efa12a0ae82b"
      },
      "source": [
        "s.index = ['a','b','c','d','e','f']\n",
        "s"
      ],
      "execution_count": null,
      "outputs": [
        {
          "output_type": "execute_result",
          "data": {
            "text/plain": [
              "a    1.73\n",
              "b    2.83\n",
              "c    3.68\n",
              "d    4.02\n",
              "e    5.50\n",
              "f    6.62\n",
              "dtype: float64"
            ]
          },
          "metadata": {
            "tags": []
          },
          "execution_count": 19
        }
      ]
    },
    {
      "cell_type": "code",
      "metadata": {
        "id": "9391ZbGRbKkp",
        "outputId": "017f2efe-9e92-4d7d-e6dc-1bcac8988bc3"
      },
      "source": [
        "print(s[1:])\n",
        "print(s[:-2])"
      ],
      "execution_count": null,
      "outputs": [
        {
          "output_type": "stream",
          "text": [
            "5    145.83\n",
            "4    143.68\n",
            "3    144.02\n",
            "2    143.50\n",
            "1    142.62\n",
            "dtype: float64\n",
            "6    143.73\n",
            "5    145.83\n",
            "4    143.68\n",
            "3    144.02\n",
            "dtype: float64\n"
          ],
          "name": "stdout"
        }
      ]
    },
    {
      "cell_type": "code",
      "metadata": {
        "colab": {
          "base_uri": "https://localhost:8080/"
        },
        "id": "aScAnPjVidGQ",
        "outputId": "bf8908eb-35fc-43a4-da27-e30dc5a953ba"
      },
      "source": [
        "print(s[1:])\n",
        "print(s[:-2])"
      ],
      "execution_count": null,
      "outputs": [
        {
          "output_type": "stream",
          "text": [
            "b    2.83\n",
            "c    3.68\n",
            "d    4.02\n",
            "e    5.50\n",
            "f    6.62\n",
            "dtype: float64\n",
            "a    1.73\n",
            "b    2.83\n",
            "c    3.68\n",
            "d    4.02\n",
            "dtype: float64\n"
          ],
          "name": "stdout"
        }
      ]
    },
    {
      "cell_type": "code",
      "metadata": {
        "id": "uwJrU8LxbKkp",
        "outputId": "7acbd272-315a-4232-f6c5-07947f324df9"
      },
      "source": [
        "print(s[4])\n",
        "s[4] = 0\n",
        "print(s)"
      ],
      "execution_count": null,
      "outputs": [
        {
          "output_type": "stream",
          "text": [
            "143.68\n",
            "6    143.73\n",
            "5    145.83\n",
            "4      0.00\n",
            "3    144.02\n",
            "2    143.50\n",
            "1    142.62\n",
            "dtype: float64\n"
          ],
          "name": "stdout"
        }
      ]
    },
    {
      "cell_type": "code",
      "metadata": {
        "colab": {
          "base_uri": "https://localhost:8080/"
        },
        "id": "EG0sXA2iihqI",
        "outputId": "c99ff9dd-04ce-48de-e1f4-1d9c03805278"
      },
      "source": [
        "print(s[4])\n",
        "s[4] = 0\n",
        "print(s)"
      ],
      "execution_count": null,
      "outputs": [
        {
          "output_type": "stream",
          "text": [
            "5.5\n",
            "a    1.73\n",
            "b    2.83\n",
            "c    3.68\n",
            "d    4.02\n",
            "e    0.00\n",
            "f    6.62\n",
            "dtype: float64\n"
          ],
          "name": "stdout"
        }
      ]
    },
    {
      "cell_type": "code",
      "metadata": {
        "id": "TM-gn9SPbKkp",
        "outputId": "ef7cefce-eb10-4da1-bea1-9e537ae9e795"
      },
      "source": [
        "s = pd.Series(price, name = 'Apple Price List')\n",
        "print(s)\n",
        "print(s.name)"
      ],
      "execution_count": null,
      "outputs": [
        {
          "output_type": "stream",
          "text": [
            "0    143.73\n",
            "1    145.83\n",
            "2    143.68\n",
            "3    144.02\n",
            "4    143.50\n",
            "5    142.62\n",
            "Name: Apple Price List, dtype: float64\n",
            "Apple Price List\n"
          ],
          "name": "stdout"
        }
      ]
    },
    {
      "cell_type": "code",
      "metadata": {
        "colab": {
          "base_uri": "https://localhost:8080/"
        },
        "id": "RYfsn0_gio7f",
        "outputId": "7e1ca615-09a0-49d3-c84d-e920d2e62303"
      },
      "source": [
        "mys = pd.Series(price, name = 'Example. Apple Price List')\n",
        "print(mys)\n",
        "print(mys.name)"
      ],
      "execution_count": null,
      "outputs": [
        {
          "output_type": "stream",
          "text": [
            "0    1.73\n",
            "1    2.83\n",
            "2    3.68\n",
            "3    4.02\n",
            "4    5.50\n",
            "5    6.62\n",
            "Name: Example. Apple Price List, dtype: float64\n",
            "Example. Apple Price List\n"
          ],
          "name": "stdout"
        }
      ]
    },
    {
      "cell_type": "code",
      "metadata": {
        "id": "9GtSt0tsbKkq",
        "outputId": "b356296b-f32e-44d9-fe97-c97673beadee"
      },
      "source": [
        "time_index = pd.date_range('2017-01-01',periods = len(s),freq = 'D')\n",
        "print(time_index)\n",
        "s.index = time_index\n",
        "print(s)"
      ],
      "execution_count": null,
      "outputs": [
        {
          "output_type": "stream",
          "text": [
            "DatetimeIndex(['2017-01-01', '2017-01-02', '2017-01-03', '2017-01-04',\n",
            "               '2017-01-05', '2017-01-06'],\n",
            "              dtype='datetime64[ns]', freq='D')\n",
            "2017-01-01    143.73\n",
            "2017-01-02    145.83\n",
            "2017-01-03    143.68\n",
            "2017-01-04    144.02\n",
            "2017-01-05    143.50\n",
            "2017-01-06    142.62\n",
            "Freq: D, Name: Apple Price List, dtype: float64\n"
          ],
          "name": "stdout"
        }
      ]
    },
    {
      "cell_type": "code",
      "metadata": {
        "colab": {
          "base_uri": "https://localhost:8080/"
        },
        "id": "EsgA4Px-jJRm",
        "outputId": "f27f7fdf-5c38-4441-f280-fb484c5f95c7"
      },
      "source": [
        "time_index = pd.date_range('2017-01-01',periods = len(mys),freq = 'M')\n",
        "print(time_index)\n",
        "mys.index = time_index\n",
        "print(mys)"
      ],
      "execution_count": null,
      "outputs": [
        {
          "output_type": "stream",
          "text": [
            "DatetimeIndex(['2017-01-31', '2017-02-28', '2017-03-31', '2017-04-30',\n",
            "               '2017-05-31', '2017-06-30'],\n",
            "              dtype='datetime64[ns]', freq='M')\n",
            "2017-01-31    1.73\n",
            "2017-02-28    2.83\n",
            "2017-03-31    3.68\n",
            "2017-04-30    4.02\n",
            "2017-05-31    5.50\n",
            "2017-06-30    6.62\n",
            "Freq: M, Name: Example. Apple Price List, dtype: float64\n"
          ],
          "name": "stdout"
        }
      ]
    },
    {
      "cell_type": "code",
      "metadata": {
        "id": "Gfs4L3sEbKkq",
        "outputId": "6ba93f9d-d657-474a-a5b2-196140b1edf0"
      },
      "source": [
        "s.index = [6,5,4,3,2,1]\n",
        "print(s)\n",
        "print(s[1])"
      ],
      "execution_count": null,
      "outputs": [
        {
          "output_type": "stream",
          "text": [
            "6    143.73\n",
            "5    145.83\n",
            "4    143.68\n",
            "3    144.02\n",
            "2    143.50\n",
            "1    142.62\n",
            "Name: Apple Price List, dtype: float64\n",
            "142.62\n"
          ],
          "name": "stdout"
        }
      ]
    },
    {
      "cell_type": "code",
      "metadata": {
        "colab": {
          "base_uri": "https://localhost:8080/"
        },
        "id": "scrZNQatjn7W",
        "outputId": "c7f515f5-2288-4c6f-9f0d-8672b68af0f5"
      },
      "source": [
        "mys.index = [6,5,4,3,2,1]\n",
        "print(mys)\n",
        "print(mys[1])"
      ],
      "execution_count": null,
      "outputs": [
        {
          "output_type": "stream",
          "text": [
            "6    1.73\n",
            "5    2.83\n",
            "4    3.68\n",
            "3    4.02\n",
            "2    5.50\n",
            "1    6.62\n",
            "Name: Example. Apple Price List, dtype: float64\n",
            "6.62\n"
          ],
          "name": "stdout"
        }
      ]
    },
    {
      "cell_type": "code",
      "metadata": {
        "id": "qj7YTAMZbKkq",
        "outputId": "c5a9288c-2073-4635-9e5d-fb3957985885"
      },
      "source": [
        "print(s.iloc[1])"
      ],
      "execution_count": null,
      "outputs": [
        {
          "output_type": "stream",
          "text": [
            "145.83\n"
          ],
          "name": "stdout"
        }
      ]
    },
    {
      "cell_type": "code",
      "metadata": {
        "colab": {
          "base_uri": "https://localhost:8080/"
        },
        "id": "rQeBEBCIjvxN",
        "outputId": "e0cfed84-fabc-4c0b-8f12-8e1ab62d6d29"
      },
      "source": [
        "print(mys.iloc[1])"
      ],
      "execution_count": null,
      "outputs": [
        {
          "output_type": "stream",
          "text": [
            "2.83\n"
          ],
          "name": "stdout"
        }
      ]
    },
    {
      "cell_type": "code",
      "metadata": {
        "id": "Cbyml7eqbKkr",
        "outputId": "192418c8-8278-4f12-b1e7-982caf9e8ff8"
      },
      "source": [
        "s.index = time_index\n",
        "print(s['2017-01-03'])"
      ],
      "execution_count": null,
      "outputs": [
        {
          "output_type": "stream",
          "text": [
            "143.68\n"
          ],
          "name": "stdout"
        }
      ]
    },
    {
      "cell_type": "code",
      "metadata": {
        "id": "kC1Vf3o_jzn7"
      },
      "source": [
        "mys.index = time_index\n",
        "print(mys['2017-01-03'])"
      ],
      "execution_count": null,
      "outputs": []
    },
    {
      "cell_type": "code",
      "metadata": {
        "colab": {
          "base_uri": "https://localhost:8080/"
        },
        "id": "tUq9rTq7bKkr",
        "outputId": "8144c56b-4da6-4068-8eed-a3140d09f51a"
      },
      "source": [
        "print(s['2017-01-02':'2017-01-05'])"
      ],
      "execution_count": null,
      "outputs": [
        {
          "output_type": "stream",
          "text": [
            "Series([], Freq: M, dtype: float64)\n"
          ],
          "name": "stdout"
        }
      ]
    },
    {
      "cell_type": "code",
      "metadata": {
        "id": "bLAfgnIKkiBl"
      },
      "source": [
        "print(mys['2017-01-02':'2017-01-05'])"
      ],
      "execution_count": null,
      "outputs": []
    },
    {
      "cell_type": "code",
      "metadata": {
        "id": "BoHCITy3bKkr",
        "outputId": "bac00844-94ba-441a-c35f-0a1b9be348d1"
      },
      "source": [
        "print(s[s < np.mean(s)] )\n",
        "print([(s > np.mean(s)) & (s < np.mean(s) + 1.64*np.std(s))])"
      ],
      "execution_count": null,
      "outputs": [
        {
          "output_type": "stream",
          "text": [
            "6    143.73\n",
            "4    143.68\n",
            "2    143.50\n",
            "1    142.62\n",
            "Name: Apple Price List, dtype: float64\n",
            "[6    False\n",
            "5    False\n",
            "4    False\n",
            "3     True\n",
            "2    False\n",
            "1    False\n",
            "Name: Apple Price List, dtype: bool]\n"
          ],
          "name": "stdout"
        }
      ]
    },
    {
      "cell_type": "code",
      "metadata": {
        "colab": {
          "base_uri": "https://localhost:8080/"
        },
        "id": "Zn5cqZ_Kkmzr",
        "outputId": "dbb2811f-f0e0-429b-a5c2-13760844baab"
      },
      "source": [
        "print(mys[mys < np.mean(mys)] )\n",
        "print([(mys > np.mean(mys)) & (mys < np.mean(mys) + 1.64*np.std(mys))])"
      ],
      "execution_count": null,
      "outputs": [
        {
          "output_type": "stream",
          "text": [
            "6    1.73\n",
            "5    2.83\n",
            "4    3.68\n",
            "3    4.02\n",
            "Name: Example. Apple Price List, dtype: float64\n",
            "[6    False\n",
            "5    False\n",
            "4    False\n",
            "3    False\n",
            "2     True\n",
            "1     True\n",
            "Name: Example. Apple Price List, dtype: bool]\n"
          ],
          "name": "stdout"
        }
      ]
    }
  ]
}