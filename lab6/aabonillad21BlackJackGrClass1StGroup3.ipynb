{
  "nbformat": 4,
  "nbformat_minor": 0,
  "metadata": {
    "colab": {
      "name": "aabonillad21BlackJackGrClass1StGroup3.ipynb",
      "provenance": [],
      "collapsed_sections": []
    },
    "kernelspec": {
      "name": "python3",
      "display_name": "Python 3"
    }
  },
  "cells": [
    {
      "cell_type": "markdown",
      "metadata": {
        "id": "Gz75KnYc_Jb2"
      },
      "source": [
        "#Numerical Methods UN 2021I\n",
        "Lab 6. 21 Black Jack. Montecarlo Method.\n",
        "\n",
        "Group 3. \n",
        "\n",
        "---\n",
        "\n",
        "*Yuli Beltran Roso*\n",
        "\n",
        "*Andres Alejandro bonilla Duarte* aabonillad@unal.edu.co\n",
        "\n",
        "*Mario Anibal Bohorquez Mora*"
      ]
    },
    {
      "cell_type": "code",
      "metadata": {
        "id": "gWYXauBUiyLy"
      },
      "source": [
        "import random as r\n",
        "import matplotlib.pyplot as plt"
      ],
      "execution_count": null,
      "outputs": []
    },
    {
      "cell_type": "markdown",
      "metadata": {
        "id": "Ak_aIpXHBlXj"
      },
      "source": [
        "## 1. Estimar:\n",
        "* La probabilidad de conseguir 21\n",
        "* Numero promedio de cartas para conseguir 21\n",
        "\n",
        "para barajas que cuentan con valores distintos para 10, 11, 12 y 13."
      ]
    },
    {
      "cell_type": "code",
      "metadata": {
        "id": "duK5urMdCy7j"
      },
      "source": [
        "# Listas que representas las barajas con las que se juega\n",
        "# Spanish Deck (48-cards) y Poker Deck (52-cards)\n",
        "\n",
        "# no 13\n",
        "spanish_deck = [1,2,3,4,5,6,7,8,9,10,11,12,1,2,3,4,5,6,7,8,9,10,11,12\n",
        "                ,1,2,3,4,5,6,7,8,9,10,11,12,1,2,3,4,5,6,7,8,9,10,11,12]\n",
        "poker_deck = [1,2,3,4,5,6,7,8,9,10,11,12,13,1,2,3,4,5,6,7,8,9,10,11,12,13\n",
        "              ,1,2,3,4,5,6,7,8,9,10,11,12,13,1,2,3,4,5,6,7,8,9,10,11,12,13]"
      ],
      "execution_count": null,
      "outputs": []
    },
    {
      "cell_type": "code",
      "metadata": {
        "id": "8QMJhLDfEDvg"
      },
      "source": [
        "# funcion para iterar n numero de veces simulando la seleccion de cartas\n",
        "# d: tipo de deck\n",
        "# n: numero de manos que se sacan de manera aleatoria\n",
        "def blackjack(d, n):\n",
        "  count = 0 # contador de 21s\n",
        "  numeroCartas = [] # lista de cartas en manos con 21\n",
        "\n",
        "  for i in range(n):\n",
        "    deck = list(d)\n",
        "    handCards = []\n",
        "\n",
        "    while (sum(handCards) < 21):\n",
        "      card = r.choice(deck)\n",
        "      handCards.append(card)\n",
        "      deck.remove(card) \n",
        "\n",
        "    if sum(handCards) == 21:\n",
        "      count += 1\n",
        "      numeroCartas.append(len(handCards))\n",
        "\n",
        "  probabilidad_21 = count / n\n",
        "  cartas_promedio = sum(numeroCartas) / len(numeroCartas)\n",
        "  bins = range(11)\n",
        "\n",
        "  plt.hist(numeroCartas, bins=bins)\n",
        "  plt.axvline(cartas_promedio, color='k', linestyle='dashed', linewidth=1)\n",
        "  plt.xlabel('Numero de Cartas')\n",
        "  plt.ylabel('Manos con 21')\n",
        "  plt.title('Montecarlo. 21 Blac Jack')\n",
        "\n",
        "  return probabilidad_21 , cartas_promedio"
      ],
      "execution_count": null,
      "outputs": []
    },
    {
      "cell_type": "code",
      "metadata": {
        "colab": {
          "base_uri": "https://localhost:8080/",
          "height": 331
        },
        "id": "VnupCgQdH-lw",
        "outputId": "f3e2ae19-6c12-49ab-aa11-39d1ac0a0861"
      },
      "source": [
        "# llamada a la fucnion baraja de poker\n",
        "# n = 10 000 000\n",
        "est21, promCartas = blackjack(poker_deck, 10000000)\n",
        "print('Estimación de Probabilidad:', est21)\n",
        "print('Promedio de Cartas en la 21', promCartas)"
      ],
      "execution_count": null,
      "outputs": [
        {
          "output_type": "stream",
          "text": [
            "Estimación de Probabilidad: 0.1447312\n",
            "Promedio de Cartas en la 21 3.2172593055263827\n"
          ],
          "name": "stdout"
        },
        {
          "output_type": "display_data",
          "data": {
            "image/png": "[encoded data removed]",
            "text/plain": [
              "<Figure size 432x288 with 1 Axes>"
            ]
          },
          "metadata": {
            "tags": [],
            "needs_background": "light"
          }
        }
      ]
    },
    {
      "cell_type": "code",
      "metadata": {
        "colab": {
          "base_uri": "https://localhost:8080/",
          "height": 331
        },
        "id": "WdeTNmRyvscX",
        "outputId": "7f46350a-2173-49e4-f407-9a95aca155c2"
      },
      "source": [
        "# llamada a la fucnion para baraja española\n",
        "# n = 10 000 000\n",
        "est21, promCartas = blackjack(spanish_deck, 10000000)\n",
        "print('Estimación de Probabilidad:', est21)\n",
        "print('Promedio de Cartas en la 21', promCartas)"
      ],
      "execution_count": null,
      "outputs": [
        {
          "output_type": "stream",
          "text": [
            "Estimación de Probabilidad: 0.1578458\n",
            "Promedio de Cartas en la 21 3.417023449467772\n"
          ],
          "name": "stdout"
        },
        {
          "output_type": "display_data",
          "data": {
            "image/png": "[encoded data removed]",
            "text/plain": [
              "<Figure size 432x288 with 1 Axes>"
            ]
          },
          "metadata": {
            "tags": [],
            "needs_background": "light"
          }
        }
      ]
    },
    {
      "cell_type": "markdown",
      "metadata": {
        "id": "yFcJsN26xPAv"
      },
      "source": [
        "## 2. Estimar:\n",
        "* La probabilidad de conseguir 21\n",
        "* Numero promedio de cartas para conseguir 21\n",
        "\n",
        "para barajas que cuentan con valores iguales de 10 para las cartas 10, 11, 12 y 13."
      ]
    },
    {
      "cell_type": "code",
      "metadata": {
        "id": "j8er1kjZxOXg"
      },
      "source": [
        "# nuevas barajas\n",
        "poker_deck10 = [1,2,3,4,5,6,7,8,9,10,10,10,10,1,2,3,4,5,6,7,8,9,10,10,10,10,\n",
        "                1,2,3,4,5,6,7,8,9,10,10,10,10,1,2,3,4,5,6,7,8,9,10,10,10,10] \n",
        "spanish_deck10 = [1,2,3,4,5,6,7,8,9,10,10,10,1,2,3,4,5,6,7,8,9,10,10,10,\n",
        "                  1,2,3,4,5,6,7,8,9,10,10,10,1,2,3,4,5,6,7,8,9,10,10,10]"
      ],
      "execution_count": null,
      "outputs": []
    },
    {
      "cell_type": "code",
      "metadata": {
        "colab": {
          "base_uri": "https://localhost:8080/",
          "height": 331
        },
        "id": "BqUEECMvyJCv",
        "outputId": "9b9b423f-b065-4a12-c3b9-d95497a2e63d"
      },
      "source": [
        "# llamada a la fucnion para baraja poker modificada\n",
        "# n = 10 000 000\n",
        "est21, promCartas = blackjack(poker_deck10, 10000000)\n",
        "print('Estimación de Probabilidad:', est21)\n",
        "print('Promedio de Cartas en la 21', promCartas)"
      ],
      "execution_count": null,
      "outputs": [
        {
          "output_type": "stream",
          "text": [
            "Estimación de Probabilidad: 0.1399588\n",
            "Promedio de Cartas en la 21 3.577818615192471\n"
          ],
          "name": "stdout"
        },
        {
          "output_type": "display_data",
          "data": {
            "image/png": "[encoded data removed]",
            "text/plain": [
              "<Figure size 432x288 with 1 Axes>"
            ]
          },
          "metadata": {
            "tags": [],
            "needs_background": "light"
          }
        }
      ]
    },
    {
      "cell_type": "code",
      "metadata": {
        "colab": {
          "base_uri": "https://localhost:8080/",
          "height": 331
        },
        "id": "RZPuq2jXyJnn",
        "outputId": "0e01e1d4-b5dd-4c60-8634-4a7ebb1fa918"
      },
      "source": [
        "# llamada a la fucnion para baraja española modii¿ficada\n",
        "# n = 10 000 000\n",
        "est21, promCartas = blackjack(spanish_deck10, 10000000)\n",
        "print('Estimación de Probabilidad:', est21)\n",
        "print('Promedio de Cartas en la 21', promCartas)"
      ],
      "execution_count": null,
      "outputs": [
        {
          "output_type": "stream",
          "text": [
            "Estimación de Probabilidad: 0.1495746\n",
            "Promedio de Cartas en la 21 3.6985838504665898\n"
          ],
          "name": "stdout"
        },
        {
          "output_type": "display_data",
          "data": {
            "image/png": "[encoded data removed]",
            "text/plain": [
              "<Figure size 432x288 with 1 Axes>"
            ]
          },
          "metadata": {
            "tags": [],
            "needs_background": "light"
          }
        }
      ]
    },
    {
      "cell_type": "markdown",
      "metadata": {
        "id": "65YlEGCc1vRL"
      },
      "source": [
        "## 3. Estimar:\n",
        "* La probabilidad de conseguir 21\n",
        "* Numero promedio de cartas para conseguir 21\n",
        "\n",
        "para barajas regulares, con la modifiación de tener la mano [7,7,5] y que la baraja del juego inicia en n/2 cartas."
      ]
    },
    {
      "cell_type": "code",
      "metadata": {
        "id": "U7ClFwJh2au_"
      },
      "source": [
        "# modified n/2 decks\n",
        "# \n",
        "spanish_deck_mod = [2,3,6,8,9,11,1,4,5,10,11,1,2,4,7,9,11,12,1,2,3,5,8,10]\n",
        "poker_deck_mod = [1,3,4,8,10,11,2,3,4,5,6,8,9,10,11,12,13,2,3,5,8,10,12,2,5,10]"
      ],
      "execution_count": null,
      "outputs": []
    },
    {
      "cell_type": "code",
      "metadata": {
        "id": "TUC9K1c74KhW"
      },
      "source": [
        "# funcion modificada punto 3\n",
        "# d: tipo de deck\n",
        "# n: numero de manos que se sacan de manera aleatoria\n",
        "def blackjack_mod(d, n):\n",
        "  count = 0 # contador de 21s\n",
        "  numeroCartas = [] # lista de cartas en manos con 21\n",
        "\n",
        "  for i in range(n):\n",
        "    deck = list(d)\n",
        "    handCards = [7, 7, 5]  # mano siempre inicia con el valor 7,7,5\n",
        "\n",
        "    while (sum(handCards) < 21):\n",
        "      card = r.choice(deck)\n",
        "      handCards.append(card)\n",
        "      deck.remove(card) \n",
        "\n",
        "    if sum(handCards) == 21:\n",
        "      count += 1\n",
        "      numeroCartas.append(len(handCards))\n",
        "\n",
        "  probabilidad_21 = count / n\n",
        "  cartas_promedio = sum(numeroCartas) / len(numeroCartas)\n",
        "  bins = range(11)\n",
        "\n",
        "  plt.hist(numeroCartas, bins=bins)\n",
        "  plt.axvline(cartas_promedio, color='k', linestyle='dashed', linewidth=1)\n",
        "  plt.xlabel('Numero de Cartas')\n",
        "  plt.ylabel('Manos con 21')\n",
        "  plt.title('Montecarlo. 21 Blac Jack')\n",
        "\n",
        "  return probabilidad_21 , cartas_promedio"
      ],
      "execution_count": null,
      "outputs": []
    },
    {
      "cell_type": "code",
      "metadata": {
        "colab": {
          "base_uri": "https://localhost:8080/",
          "height": 331
        },
        "id": "LQsCDxGJ5GEi",
        "outputId": "5db3a5b9-186b-4198-dda4-d1130aace43a"
      },
      "source": [
        "# llamada a la fucnion modificada para baraja poker modificada\n",
        "# n = 10 000 000\n",
        "est21, promCartas = blackjack_mod(poker_deck_mod, 10000000)\n",
        "print('Estimación de Probabilidad:', est21)\n",
        "print('Promedio de Cartas en la 21', promCartas)"
      ],
      "execution_count": null,
      "outputs": [
        {
          "output_type": "stream",
          "text": [
            "Estimación de Probabilidad: 0.1153865\n",
            "Promedio de Cartas en la 21 4.0\n"
          ],
          "name": "stdout"
        },
        {
          "output_type": "display_data",
          "data": {
            "image/png": "[encoded data removed]",
            "text/plain": [
              "<Figure size 432x288 with 1 Axes>"
            ]
          },
          "metadata": {
            "tags": [],
            "needs_background": "light"
          }
        }
      ]
    },
    {
      "cell_type": "code",
      "metadata": {
        "colab": {
          "base_uri": "https://localhost:8080/",
          "height": 331
        },
        "id": "7_2uJvfz5RTF",
        "outputId": "3a99063b-95e7-4ad9-a04d-a983127d6220"
      },
      "source": [
        "# llamada a la fucnion modificada para baraja española modificada\n",
        "# n = 10 000 000\n",
        "est21, promCartas = blackjack_mod(spanish_deck_mod, 10000000)\n",
        "print('Estimación de Probabilidad:', est21)\n",
        "print('Promedio de Cartas en la 21', promCartas)"
      ],
      "execution_count": null,
      "outputs": [
        {
          "output_type": "stream",
          "text": [
            "Estimación de Probabilidad: 0.1359108\n",
            "Promedio de Cartas en la 21 4.080113574491505\n"
          ],
          "name": "stdout"
        },
        {
          "output_type": "display_data",
          "data": {
            "image/png": "[encoded data removed]",
            "text/plain": [
              "<Figure size 432x288 with 1 Axes>"
            ]
          },
          "metadata": {
            "tags": [],
            "needs_background": "light"
          }
        }
      ]
    },
    {
      "cell_type": "markdown",
      "metadata": {
        "id": "HksFHdhf5rQC"
      },
      "source": [
        "## 4. Estimar:\n",
        "* La probabilidad de conseguir 21\n",
        "* Numero promedio de cartas para conseguir 21\n",
        "\n",
        "Dos posibles barajas para cada partida (hot or cold), las manos tienen un valor inicial de [7,7,5]."
      ]
    },
    {
      "cell_type": "code",
      "metadata": {
        "id": "uSpjGyhI6VEH"
      },
      "source": [
        "def blackjack_mod_hotcold(hot_deck, cold_deck, n):\n",
        "  count = 0 # contador de 21s\n",
        "  numeroCartas = [] # lista de cartas en manos con 21\n",
        "\n",
        "  for i in range(n):\n",
        "    # seleccionar entre las dos posibilidades debaraja para jugar\n",
        "    selecdeck = r.randint(0,1)\n",
        "    if selecdeck:\n",
        "      deck = list(hot_deck)\n",
        "    else:\n",
        "      deck = list(cold_deck)\n",
        "\n",
        "    handCards = [7, 7, 5]  # mano siempre inicia con el valor 7,7,5\n",
        "\n",
        "    while (sum(handCards) < 21):\n",
        "      card = r.choice(deck)\n",
        "      handCards.append(card)\n",
        "      deck.remove(card) \n",
        "\n",
        "    if sum(handCards) == 21:\n",
        "      count += 1\n",
        "      numeroCartas.append(len(handCards))\n",
        "\n",
        "  probabilidad_21 = count / n\n",
        "  cartas_promedio = sum(numeroCartas) / len(numeroCartas)\n",
        "  bins = range(11)\n",
        "\n",
        "  plt.hist(numeroCartas, bins=bins)\n",
        "  plt.axvline(cartas_promedio, color='k', linestyle='dashed', linewidth=1)\n",
        "  plt.xlabel('Numero de Cartas')\n",
        "  plt.ylabel('Manos con 21')\n",
        "  plt.title('Montecarlo. 21 Blac Jack')\n",
        "\n",
        "  return probabilidad_21 , cartas_promedio"
      ],
      "execution_count": null,
      "outputs": []
    },
    {
      "cell_type": "code",
      "metadata": {
        "colab": {
          "base_uri": "https://localhost:8080/",
          "height": 331
        },
        "id": "V-JNeLk69TV7",
        "outputId": "8bda2314-72d5-4c4d-d2f4-c1d6c0a916e4"
      },
      "source": [
        "# llamada a la fucnion hot and cold\n",
        "# n = 10 000 000\n",
        "\n",
        "hot_deck = [1,1,1,1,2,2,2,2]\n",
        "cold_deck = [10,3,4,10,13,11,8,9]\n",
        "\n",
        "est21, promCartas = blackjack_mod_hotcold(hot_deck, cold_deck, 10000000)\n",
        "print('Estimación de Probabilidad:', est21)\n",
        "print('Promedio de Cartas en la 21', promCartas)"
      ],
      "execution_count": null,
      "outputs": [
        {
          "output_type": "stream",
          "text": [
            "Estimación de Probabilidad: 0.3567254\n",
            "Promedio de Cartas en la 21 4.299470404966958\n"
          ],
          "name": "stdout"
        },
        {
          "output_type": "display_data",
          "data": {
            "image/png": "[encoded data removed]",
            "text/plain": [
              "<Figure size 432x288 with 1 Axes>"
            ]
          },
          "metadata": {
            "tags": [],
            "needs_background": "light"
          }
        }
      ]
    },
    {
      "cell_type": "markdown",
      "metadata": {
        "id": "zSM2cBpnAsyF"
      },
      "source": [
        "## 5. Estimar:\n",
        "* La cnatidad de dinero ganado o perdido en una semana.\n",
        "\n"
      ]
    },
    {
      "cell_type": "code",
      "metadata": {
        "colab": {
          "base_uri": "https://localhost:8080/"
        },
        "id": "rCHGU3HxBz53",
        "outputId": "0231a84f-934e-4ec0-ee8f-79fc04a5725e"
      },
      "source": [
        ""
      ],
      "execution_count": null,
      "outputs": [
        {
          "output_type": "execute_result",
          "data": {
            "text/plain": [
              "600.0"
            ]
          },
          "metadata": {
            "tags": []
          },
          "execution_count": 152
        }
      ]
    },
    {
      "cell_type": "code",
      "metadata": {
        "id": "8evzDJRSC4En"
      },
      "source": [
        "def ganancias():\n",
        "  \n",
        "  n = 600 # numero de juegos en un fin de semana\n",
        "\n",
        "  for i in range(n):\n",
        "    \n",
        "    if algo:\n",
        "      #hot deck\n",
        "    else:\n",
        "      #regular deck\n",
        "\n",
        "\n",
        "  \n",
        "  return 0"
      ],
      "execution_count": null,
      "outputs": []
    }
  ]
}