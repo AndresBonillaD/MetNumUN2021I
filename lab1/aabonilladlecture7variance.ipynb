{
  "nbformat": 4,
  "nbformat_minor": 0,
  "metadata": {
    "kernelspec": {
      "name": "python3",
      "display_name": "Python 3"
    },
    "colab": {
      "name": "aabonilladvariance.ipynb",
      "provenance": []
    }
  },
  "cells": [
    {
      "cell_type": "markdown",
      "metadata": {
        "id": "gPf4x7HGoms9"
      },
      "source": [
        "#MN - Lab 1 Quantopian lecture7\r\n",
        "Andres Alejandro Bonilla Duarte\r\n",
        "\r\n"
      ]
    },
    {
      "cell_type": "markdown",
      "metadata": {
        "id": "mMb4NtxblIKq"
      },
      "source": [
        "# Measures of Dispersion\n",
        "By Evgenia \"Jenny\" Nitishinskaya, Maxwell Margenot, and Delaney Mackenzie.\n",
        "\n",
        "Part of the Quantopian Lecture Series:\n",
        "\n",
        "* [www.quantopian.com/lectures](https://www.quantopian.com/lectures)\n",
        "* [github.com/quantopian/research_public](https://github.com/quantopian/research_public)\n",
        "\n",
        "\n",
        "---\n",
        "\n",
        "Dispersion measures how spread out a set of data is. This is especially important in finance because one of the main ways risk is measured is in how spread out returns have been historically. If returns have been very tight around a central value, then we have less reason to worry. If returns have been all over the place, that is risky.\n",
        "\n",
        "Data with low dispersion is heavily clustered around the mean, while data with high dispersion indicates many very large and very small values.\n",
        "\n",
        "Let's generate an array of random integers to work with."
      ]
    },
    {
      "cell_type": "code",
      "metadata": {
        "collapsed": true,
        "id": "Dxopny_ElIKz"
      },
      "source": [
        "# Import libraries\n",
        "import numpy as np\n",
        "\n",
        "# cambié el parametro del seed para mis ejemplos\n",
        "np.random.seed(88)"
      ],
      "execution_count": null,
      "outputs": []
    },
    {
      "cell_type": "code",
      "metadata": {
        "id": "ND6xtnmklIK0",
        "outputId": "c839e601-cbe9-45d3-fd5e-c71fc07ed21e"
      },
      "source": [
        "# Generate 20 random integers < 100\n",
        "X = np.random.randint(100, size=20)\n",
        "\n",
        "# Sort them\n",
        "X = np.sort(X)\n",
        "print 'X: %s' %(X)\n",
        "\n",
        "mu = np.mean(X)\n",
        "print 'Mean of X:', mu"
      ],
      "execution_count": null,
      "outputs": [
        {
          "output_type": "stream",
          "text": [
            "X: [ 3  8 34 39 46 52 52 52 54 57 60 65 66 75 83 85 88 94 95 96]\n",
            "Mean of X: 60.2\n"
          ],
          "name": "stdout"
        }
      ]
    },
    {
      "cell_type": "code",
      "metadata": {
        "colab": {
          "base_uri": "https://localhost:8080/"
        },
        "id": "m-v9CEs7lyc8",
        "outputId": "9e20ce6f-54a9-4c12-a7a1-0611f57ff003"
      },
      "source": [
        "# random integer array\r\n",
        "\r\n",
        "X = np.random.randint(100, size=20)\r\n",
        "X = np.sort(X)\r\n",
        "mu = np.mean(X)\r\n",
        "\r\n",
        "print('My example data', X)\r\n",
        "print('Mean', mu)"
      ],
      "execution_count": null,
      "outputs": [
        {
          "output_type": "stream",
          "text": [
            "My example data [ 4  7 10 20 32 34 39 48 49 62 69 70 71 75 79 88 89 90 97 97]\n",
            "Mean 56.5\n"
          ],
          "name": "stdout"
        }
      ]
    },
    {
      "cell_type": "markdown",
      "metadata": {
        "id": "ejIsP-EIlIK1"
      },
      "source": [
        "# Range\n",
        "\n",
        "Range is simply the difference between the maximum and minimum values in a dataset. Not surprisingly, it is very sensitive to outliers. We'll use `numpy`'s peak to peak (ptp) function for this.\n",
        "\n"
      ]
    },
    {
      "cell_type": "code",
      "metadata": {
        "id": "I8TCQug4lIK1",
        "outputId": "69fb9d8a-5577-425f-ff6e-e711855ce656"
      },
      "source": [
        "print 'Range of X: %s' %(np.ptp(X))"
      ],
      "execution_count": null,
      "outputs": [
        {
          "output_type": "stream",
          "text": [
            "Range of X: 93\n"
          ],
          "name": "stdout"
        }
      ]
    },
    {
      "cell_type": "code",
      "metadata": {
        "colab": {
          "base_uri": "https://localhost:8080/"
        },
        "id": "tj1n_2e-nHrO",
        "outputId": "5ffd56e4-e00b-41a4-d0b7-3737c1da8bc8"
      },
      "source": [
        "print('Range of X:', np.ptp(X))"
      ],
      "execution_count": null,
      "outputs": [
        {
          "output_type": "stream",
          "text": [
            "Range of X: 93\n"
          ],
          "name": "stdout"
        }
      ]
    },
    {
      "cell_type": "markdown",
      "metadata": {
        "id": "MQfLmAeqlIK2"
      },
      "source": [
        "# Mean Absolute Deviation (MAD)\n",
        "\n",
        "The mean absolute deviation is the average of the distances of observations from the arithmetic mean. We use the absolute value of the deviation, so that 5 above the mean and 5 below the mean both contribute 5, because otherwise the deviations always sum to 0.\n",
        "\n",
        "$$ MAD = \\frac{\\sum_{i=1}^n |X_i - \\mu|}{n} $$\n",
        "\n",
        "where $n$ is the number of observations and $\\mu$ is their mean."
      ]
    },
    {
      "cell_type": "markdown",
      "metadata": {
        "id": "RXb0uGUbJIKO"
      },
      "source": [
        "# NM Example - Mean Absolute Deviation.\r\n",
        "## Mean Absolute Deviation (MAD)\r\n",
        "\r\n",
        "stablish dispertion indicator based on proxymity to the Aritmetic Mean.\r\n",
        "\r\n",
        "$$ MAD = \\frac{\\sum_{i=1}^n |X_i - \\mu|}{n} $$\r\n",
        "\r\n",
        "where $n$ is the number of observations and $\\mu$ is their mean."
      ]
    },
    {
      "cell_type": "code",
      "metadata": {
        "id": "d-ulD1oWlIK2",
        "outputId": "ed163dca-82df-4aff-f8e7-61fad9961eb6"
      },
      "source": [
        "abs_dispersion = [np.abs(mu - x) for x in X]\n",
        "MAD = np.sum(abs_dispersion)/len(abs_dispersion)\n",
        "print 'Mean absolute deviation of X:', MAD"
      ],
      "execution_count": null,
      "outputs": [
        {
          "output_type": "stream",
          "text": [
            "Mean absolute deviation of X: 20.52\n"
          ],
          "name": "stdout"
        }
      ]
    },
    {
      "cell_type": "code",
      "metadata": {
        "colab": {
          "base_uri": "https://localhost:8080/"
        },
        "id": "KcN19K5np6Nt",
        "outputId": "fcd9debe-147d-43ba-d8f5-f78c3ac3bbbe"
      },
      "source": [
        "absDispersion = [np.abs(mu - x) for x in X]\r\n",
        "MAD = np.sum(absDispersion) / len(absDispersion)\r\n",
        "print('mean absolute deviation of X', MAD)"
      ],
      "execution_count": null,
      "outputs": [
        {
          "output_type": "stream",
          "text": [
            "mean absolute deviation of X 26.55\n"
          ],
          "name": "stdout"
        }
      ]
    },
    {
      "cell_type": "markdown",
      "metadata": {
        "id": "KkIenU8FlIK2"
      },
      "source": [
        "# Variance and standard deviation\n",
        "\n",
        "The variance $\\sigma^2$ is defined as the average of the squared deviations around the mean:\n",
        "$$ \\sigma^2 = \\frac{\\sum_{i=1}^n (X_i - \\mu)^2}{n} $$\n",
        "\n",
        "This is sometimes more convenient than the mean absolute deviation because absolute value is not differentiable, while squaring is smooth, and some optimization algorithms rely on differentiability.\n",
        "\n",
        "Standard deviation is defined as the square root of the variance, $\\sigma$, and it is the easier of the two to interpret because it is in the same units as the observations."
      ]
    },
    {
      "cell_type": "markdown",
      "metadata": {
        "id": "-L7HYsqWKIIW"
      },
      "source": [
        "# NM Example - Variance\r\n",
        "## Variance and standard deviation\r\n",
        "\r\n",
        "The variance $\\sigma^2$ is defined as the average of the squared deviations around the mean:\r\n",
        "$$ \\sigma^2 = \\frac{\\sum_{i=1}^n (X_i - \\mu)^2}{n} $$\r\n",
        "\r\n",
        "Pros: Diferentiability\r\n",
        "\r\n",
        "Cons: More Complexity, diferent units.\r\n",
        "\r\n",
        "Standard deviation is defined as the square root of the variance, $\\sigma$, and it is the easier of the two to interpret because it is in the same units as the observations.\r\n",
        "\r\n",
        "$$ \\sigma = \\sqrt{\\sigma^2} $$\r\n"
      ]
    },
    {
      "cell_type": "code",
      "metadata": {
        "id": "cN7q9c79lIK3",
        "outputId": "a96146b2-a66f-45f6-efe3-50d6ab15576d"
      },
      "source": [
        "print 'Variance of X:', np.var(X)\n",
        "print 'Standard deviation of X:', np.std(X)"
      ],
      "execution_count": null,
      "outputs": [
        {
          "output_type": "stream",
          "text": [
            "Variance of X: 670.16\n",
            "Standard deviation of X: 25.8874486962\n"
          ],
          "name": "stdout"
        }
      ]
    },
    {
      "cell_type": "code",
      "metadata": {
        "colab": {
          "base_uri": "https://localhost:8080/"
        },
        "id": "DEzUavNJrj-d",
        "outputId": "7b0719c8-9a74-4968-f464-f4c27e077f20"
      },
      "source": [
        "# varianza y desviación estandar\r\n",
        "\r\n",
        "print('variance of my example X:', np.var(X))\r\n",
        "print('Std deviation of my example X:', np.std(X))"
      ],
      "execution_count": null,
      "outputs": [
        {
          "output_type": "stream",
          "text": [
            "variance of my example X: 906.05\n",
            "Std deviation of my example X: 30.100664444493578\n"
          ],
          "name": "stdout"
        }
      ]
    },
    {
      "cell_type": "markdown",
      "metadata": {
        "id": "9Y5-TM83lIK3"
      },
      "source": [
        "One way to interpret standard deviation is by referring to Chebyshev's inequality. This tells us that the proportion of samples within $k$ standard deviations (that is, within a distance of $k \\cdot$ standard deviation) of the mean is at least $1 - 1/k^2$ for all $k>1$.\n",
        "\n",
        "Let's check that this is true for our data set."
      ]
    },
    {
      "cell_type": "code",
      "metadata": {
        "id": "KInqzuR-lIK4",
        "outputId": "4318947d-ec06-4b2e-badd-bb534e3bb6a5"
      },
      "source": [
        "k = 1.25\n",
        "dist = k*np.std(X)\n",
        "l = [x for x in X if abs(x - mu) <= dist]\n",
        "print 'Observations within', k, 'stds of mean:', l\n",
        "print 'Confirming that', float(len(l))/len(X), '>', 1 - 1/k**2"
      ],
      "execution_count": null,
      "outputs": [
        {
          "output_type": "stream",
          "text": [
            "Observations within 1.25 stds of mean: [34, 39, 46, 52, 52, 52, 54, 57, 60, 65, 66, 75, 83, 85, 88]\n",
            "Confirming that 0.75 > 0.36\n"
          ],
          "name": "stdout"
        }
      ]
    },
    {
      "cell_type": "code",
      "metadata": {
        "colab": {
          "base_uri": "https://localhost:8080/"
        },
        "id": "ESCe5E8Ksg68",
        "outputId": "a0143d56-89d0-4bfa-f7ca-8727201f9140"
      },
      "source": [
        "k = .3\r\n",
        "dist = k * np.std(X)\r\n",
        "print(dist, mu)\r\n",
        "l = [x for x in X if abs(x - mu) <= dist]\r\n",
        "print('Observations within', k, 'std dev', l)"
      ],
      "execution_count": null,
      "outputs": [
        {
          "output_type": "stream",
          "text": [
            "9.030199333348072 56.5\n",
            "Observations within 0.3 std dev [48, 49, 62]\n"
          ],
          "name": "stdout"
        }
      ]
    },
    {
      "cell_type": "markdown",
      "metadata": {
        "id": "Xkvhjg2slIK4"
      },
      "source": [
        "The bound given by Chebyshev's inequality seems fairly loose in this case. This bound is rarely strict, but it is useful because it holds for all data sets and distributions."
      ]
    },
    {
      "cell_type": "markdown",
      "metadata": {
        "id": "maNnxuijlIK4"
      },
      "source": [
        "# Semivariance and semideviation\n",
        "\n",
        "Although variance and standard deviation tell us how volatile a quantity is, they do not differentiate between deviations upward and deviations downward. Often, such as in the case of returns on an asset, we are more worried about deviations downward. This is addressed by semivariance and semideviation, which only count the observations that fall below the mean. Semivariance is defined as\n",
        "$$ \\frac{\\sum_{X_i < \\mu} (X_i - \\mu)^2}{n_<} $$\n",
        "where $n_<$ is the number of observations which are smaller than the mean. Semideviation is the square root of the semivariance."
      ]
    },
    {
      "cell_type": "code",
      "metadata": {
        "id": "qoFlsSIDlIK5",
        "outputId": "b0a4f5d6-7df0-4a3f-fa7e-7761257d663a"
      },
      "source": [
        "# Because there is no built-in semideviation, we'll compute it ourselves\n",
        "lows = [e for e in X if e <= mu]\n",
        "\n",
        "semivar = np.sum( (lows - mu) ** 2 ) / len(lows)\n",
        "\n",
        "print 'Semivariance of X:', semivar\n",
        "print 'Semideviation of X:', np.sqrt(semivar)"
      ],
      "execution_count": null,
      "outputs": [
        {
          "output_type": "stream",
          "text": [
            "Semivariance of X: 689.512727273\n",
            "Semideviation of X: 26.2585743572\n"
          ],
          "name": "stdout"
        }
      ]
    },
    {
      "cell_type": "code",
      "metadata": {
        "colab": {
          "base_uri": "https://localhost:8080/"
        },
        "id": "cfZToZkNupJU",
        "outputId": "f8dad241-e7b4-4137-f44a-88bbbe839b03"
      },
      "source": [
        "lows = [e for e in X if e <= mu]\r\n",
        "\r\n",
        "semivar = np.sum( (lows - mu) ** 2 ) / len(lows)\r\n",
        "print ('semivariance of my example data X', semivar)\r\n",
        "print ('semideviation of my example data X', np.sqrt(semivar))"
      ],
      "execution_count": null,
      "outputs": [
        {
          "output_type": "stream",
          "text": [
            "semivariance of my example data X 1138.0277777777778\n",
            "semideviation of my example data X 33.73466729905273\n"
          ],
          "name": "stdout"
        }
      ]
    },
    {
      "cell_type": "markdown",
      "metadata": {
        "id": "ZSeCD4cplIK5"
      },
      "source": [
        "A related notion is target semivariance (and target semideviation), where we average the distance from a target of values which fall below that target:\n",
        "$$ \\frac{\\sum_{X_i < B} (X_i - B)^2}{n_{<B}} $$\n"
      ]
    },
    {
      "cell_type": "code",
      "metadata": {
        "id": "Fk5blt88lIK5",
        "outputId": "79fbbaf5-8dab-4018-bb4e-68bc4d8aa765"
      },
      "source": [
        "B = 19\n",
        "lows_B = [e for e in X if e <= B]\n",
        "semivar_B = sum(map(lambda x: (x - B)**2,lows_B))/len(lows_B)\n",
        "\n",
        "print 'Target semivariance of X:', semivar_B\n",
        "print 'Target semideviation of X:', np.sqrt(semivar_B)"
      ],
      "execution_count": null,
      "outputs": [
        {
          "output_type": "stream",
          "text": [
            "Target semivariance of X: 188\n",
            "Target semideviation of X: 13.7113092008\n"
          ],
          "name": "stdout"
        }
      ]
    },
    {
      "cell_type": "code",
      "metadata": {
        "colab": {
          "base_uri": "https://localhost:8080/"
        },
        "id": "l_MnBJ0rvvzt",
        "outputId": "70a5124f-5ca9-4634-b793-90d4abbee543"
      },
      "source": [
        "B= 19\r\n",
        "lowsB = [e for e in X if e <= B]\r\n",
        "semivarB = sum(map(lambda x: (x - B) ** 2, lowsB)) / len(lowsB)\r\n",
        "\r\n",
        "print(semivarB)\r\n",
        "print(np.sqrt(semivarB))"
      ],
      "execution_count": null,
      "outputs": [
        {
          "output_type": "stream",
          "text": [
            "150.0\n",
            "12.24744871391589\n"
          ],
          "name": "stdout"
        }
      ]
    },
    {
      "cell_type": "markdown",
      "metadata": {
        "id": "g1oMd4-9lIK6"
      },
      "source": [
        "# These are Only Estimates\n",
        "\n",
        "All of these computations will give you sample statistics, that is standard deviation of a sample of data. Whether or not this reflects the current true population standard deviation is not always obvious, and more effort has to be put into determining that. This is especially problematic in finance because all data are time series and the mean and variance may change over time. There are many different techniques and subtleties here, some of which are addressed in other lectures in the [Quantopian Lecture Series](https://www.quantopian.com/lectures).\n",
        "\n",
        "In general do not assume that because something is true of your sample, it will remain true going forward."
      ]
    },
    {
      "cell_type": "markdown",
      "metadata": {
        "id": "FikuCGQRlIK6"
      },
      "source": [
        "## References\n",
        "* \"Quantitative Investment Analysis\", by DeFusco, McLeavey, Pinto, and Runkle"
      ]
    },
    {
      "cell_type": "markdown",
      "metadata": {
        "id": "x7TkVP2DlIK6"
      },
      "source": [
        "*This presentation is for informational purposes only and does not constitute an offer to sell, a solicitation to buy, or a recommendation for any security; nor does it constitute an offer to provide investment advisory or other services by Quantopian, Inc. (\"Quantopian\"). Nothing contained herein constitutes investment advice or offers any opinion with respect to the suitability of any security, and any views expressed herein should not be taken as advice to buy, sell, or hold any security or as an endorsement of any security or company.  In preparing the information contained herein, Quantopian, Inc. has not taken into account the investment needs, objectives, and financial circumstances of any particular investor. Any views expressed and data illustrated herein were prepared based upon information, believed to be reliable, available to Quantopian, Inc. at the time of publication. Quantopian makes no guarantees as to their accuracy or completeness. All information is subject to change and may quickly become unreliable for various reasons, including changes in market conditions or economic circumstances.*"
      ]
    }
  ]
}