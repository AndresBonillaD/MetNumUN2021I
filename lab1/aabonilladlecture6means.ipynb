{
  "nbformat": 4,
  "nbformat_minor": 0,
  "metadata": {
    "kernelspec": {
      "display_name": "Python 3.5",
      "language": "python",
      "name": "py35"
    },
    "language_info": {
      "codemirror_mode": {
        "name": "ipython",
        "version": 3
      },
      "file_extension": ".py",
      "mimetype": "text/x-python",
      "name": "python",
      "nbconvert_exporter": "python",
      "pygments_lexer": "ipython3",
      "version": "3.5.9"
    },
    "colab": {
      "name": "aabonilladlecture6means.ipynb",
      "provenance": []
    }
  },
  "cells": [
    {
      "cell_type": "markdown",
      "metadata": {
        "id": "Uj6SfFgQbtG0"
      },
      "source": [
        "#Numerical Methods UNAL 2021-I\n",
        "\n",
        "Lab 1. Quantopian Lectures. Lecture 6. Central Tendency.\n",
        "\n",
        "*Andres Alejandro Bonilla Duarte*. aabonillad@unal.edu.co"
      ]
    },
    {
      "cell_type": "markdown",
      "metadata": {
        "id": "WRcTu0zVUdzc"
      },
      "source": [
        "# Measures of Central Tendency\n",
        "By Evgenia \"Jenny\" Nitishinskaya, Maxwell Margenot, and Delaney Mackenzie.\n",
        "\n",
        "Part of the Quantopian Lecture Series:\n",
        "\n",
        "* [www.quantopian.com/lectures](https://www.quantopian.com/lectures)\n",
        "* [github.com/quantopian/research_public](https://github.com/quantopian/research_public)\n",
        "\n",
        "\n",
        "---\n",
        "\n",
        "In this notebook we will discuss ways to summarize a set of data using a single number. The goal is to capture information about the distribution of data.\n",
        "\n",
        "# Arithmetic mean\n",
        "\n",
        "The arithmetic mean is used very frequently to summarize numerical data, and is usually the one assumed to be meant by the word \"average.\" It is defined as the sum of the observations divided by the number of observations:\n",
        "$$\\mu = \\frac{\\sum_{i=1}^N X_i}{N}$$\n",
        "\n",
        "where $X_1, X_2, \\ldots , X_N$ are our observations."
      ]
    },
    {
      "cell_type": "markdown",
      "metadata": {
        "id": "9YeRRdNeoyPE"
      },
      "source": [
        "\n",
        "\n",
        "---\n",
        "\n",
        "# Uso del Ecosistema Cientifico de Python\n",
        "* Colab\n",
        "* Numpy\n",
        "* Scypy\n",
        "\n",
        "medidas de tendencia central"
      ]
    },
    {
      "cell_type": "code",
      "metadata": {
        "id": "p0MYls6ZUdzk",
        "outputId": "0e17b8bd-7273-4dd9-f24e-21641c732bd2"
      },
      "source": [
        "# Two useful statistical libraries\n",
        "import scipy.stats as stats\n",
        "import numpy as np\n",
        "\n",
        "# We'll use these two data sets as examples\n",
        "x1 = [1, 2, 2, 3, 4, 5, 5, 7]\n",
        "x2 = x1 + [100]\n",
        "\n",
        "print 'Mean of x1:', sum(x1), '/', len(x1), '=', np.mean(x1)\n",
        "print 'Mean of x2:', sum(x2), '/', len(x2), '=', np.mean(x2)"
      ],
      "execution_count": null,
      "outputs": [
        {
          "output_type": "stream",
          "text": [
            "Mean of x1: 29 / 8 = 3.625\n",
            "Mean of x2: 129 / 9 = 14.3333333333\n"
          ],
          "name": "stdout"
        }
      ]
    },
    {
      "cell_type": "code",
      "metadata": {
        "id": "cP5_RJaJKrdG"
      },
      "source": [
        "# import libraries\n",
        "import scipy.stats as stats\n",
        "import numpy as np"
      ],
      "execution_count": null,
      "outputs": []
    },
    {
      "cell_type": "code",
      "metadata": {
        "id": "EIu5FCiSWc67"
      },
      "source": [
        "# Dataset demo NM class example\n",
        "data0 = [2, 4, 6, 8, 9]\n",
        "data1 = data0 + [100000]\n",
        "data2 = [0,1,2,3,4,5,6,7,8,9]"
      ],
      "execution_count": null,
      "outputs": []
    },
    {
      "cell_type": "code",
      "metadata": {
        "colab": {
          "base_uri": "https://localhost:8080/"
        },
        "id": "XZ20tvwKT3zj",
        "outputId": "77875bd3-0701-4046-9750-24dae94e75d9"
      },
      "source": [
        "print(data0)\n",
        "print('mean data0', np.mean(data0))\n",
        "print(data1)\n",
        "print('mean data1', np.mean(data1))\n",
        "print('mean data2', np.mean(data2))"
      ],
      "execution_count": null,
      "outputs": [
        {
          "output_type": "stream",
          "text": [
            "[2, 4, 6, 8, 9]\n",
            "mean data0 5.8\n",
            "[2, 4, 6, 8, 9, 100000]\n",
            "mean data1 16671.5\n",
            "mean data2 4.5\n"
          ],
          "name": "stdout"
        }
      ]
    },
    {
      "cell_type": "markdown",
      "metadata": {
        "id": "PFojj2G-Udzl"
      },
      "source": [
        "We can also define a <i>weighted</i> arithmetic mean, which is useful for explicitly specifying the number of times each observation should be counted. For instance, in computing the average value of a portfolio, it is more convenient to say that 70% of your stocks are of type X rather than making a list of every share you hold.\n",
        "\n",
        "The weighted arithmetic mean is defined as\n",
        "$$\\sum_{i=1}^n w_i X_i $$\n",
        "\n",
        "where $\\sum_{i=1}^n w_i = 1$. In the usual arithmetic mean, we have $w_i = 1/n$ for all $i$."
      ]
    },
    {
      "cell_type": "code",
      "metadata": {
        "colab": {
          "base_uri": "https://localhost:8080/"
        },
        "id": "R_BSkVdvrVk8",
        "outputId": "5637f5a8-e8ed-4f3a-8946-c66d78540176"
      },
      "source": [
        "# weighted mean method\n",
        "def weightedMean(values, weights):\n",
        "  wmean = 0\n",
        "  i = 0\n",
        "  for v in values:\n",
        "    w = weights[i]\n",
        "    wmean += v * w\n",
        "    i += 1\n",
        "    #print(v, w, wmean)\n",
        "  return wmean\n",
        "\n",
        "myValues = [3, 5, 4, 1.6, 5 ,5]\n",
        "myWeights = [0.2, 0.2, 0.15, 0.15, 0.1, 0.2]\n",
        "wm = weightedMean(myValues, myWeights)\n",
        "print(wm)"
      ],
      "execution_count": null,
      "outputs": [
        {
          "output_type": "stream",
          "text": [
            "3.9400000000000004\n"
          ],
          "name": "stdout"
        }
      ]
    },
    {
      "cell_type": "markdown",
      "metadata": {
        "collapsed": true,
        "id": "zczYvW5yUdzm"
      },
      "source": [
        "# Median\n",
        "\n",
        "The median of a set of data is the number which appears in the middle of the list when it is sorted in increasing or decreasing order. When we have an odd number $n$ of data points, this is simply the value in position $(n+1)/2$. When we have an even number of data points, the list splits in half and there is no item in the middle; so we define the median as the average of the values in positions $n/2$ and $(n+2)/2$.\n",
        "\n",
        "The median is less affected by extreme values in the data than the arithmetic mean. It tells us the value that splits the data set in half, but not how much smaller or larger the other values are."
      ]
    },
    {
      "cell_type": "code",
      "metadata": {
        "id": "2bthBUaMUdzm"
      },
      "source": [
        "print 'Median of x1:', np.median(x1)\n",
        "print 'Median of x2:', np.median(x2)"
      ],
      "execution_count": null,
      "outputs": []
    },
    {
      "cell_type": "code",
      "metadata": {
        "colab": {
          "base_uri": "https://localhost:8080/"
        },
        "id": "RCka0c8zK8Oq",
        "outputId": "a5ef2a4e-421a-4711-d831-47785ba10233"
      },
      "source": [
        "print('median data0', np.median(data0))\n",
        "print('median data1', np.median(data1))\n",
        "print('median data2', np.median(data2))"
      ],
      "execution_count": null,
      "outputs": [
        {
          "output_type": "stream",
          "text": [
            "median data0 6.0\n",
            "median data1 7.0\n",
            "median data2 4.5\n"
          ],
          "name": "stdout"
        }
      ]
    },
    {
      "cell_type": "markdown",
      "metadata": {
        "id": "n6u7XpfBUdzp"
      },
      "source": [
        "# Mode\n",
        "\n",
        "The mode is the most frequently occuring value in a data set. It can be applied to non-numerical data, unlike the mean and the median. One situation in which it is useful is for data whose possible values are independent. For example, in the outcomes of a weighted die, coming up 6 often does not mean it is likely to come up 5; so knowing that the data set has a mode of 6 is more useful than knowing it has a mean of 4.5."
      ]
    },
    {
      "cell_type": "code",
      "metadata": {
        "id": "0RG-2rxbUdzq",
        "outputId": "f007adc5-7b3e-43b0-fb80-93aaf1d709de"
      },
      "source": [
        "# Scipy has a built-in mode function, but it will return exactly one value\n",
        "# even if two values occur the same number of times, or if no value appears more than once\n",
        "print 'One mode of x1:', stats.mode(x1)[0][0]\n",
        "\n",
        "# So we will write our own\n",
        "def mode(l):\n",
        "    # Count the number of times each element appears in the list\n",
        "    counts = {}\n",
        "    for e in l:\n",
        "        if e in counts:\n",
        "            counts[e] += 1\n",
        "        else:\n",
        "            counts[e] = 1\n",
        "            \n",
        "    # Return the elements that appear the most times\n",
        "    maxcount = 0\n",
        "    modes = {}\n",
        "    for (key, value) in counts.items():\n",
        "        if value > maxcount:\n",
        "            maxcount = value\n",
        "            modes = {key}\n",
        "        elif value == maxcount:\n",
        "            modes.add(key)\n",
        "            \n",
        "    if maxcount > 1 or len(l) == 1:\n",
        "        return list(modes)\n",
        "    return 'No mode'\n",
        "    \n",
        "print 'All of the modes of x1:', mode(x1)"
      ],
      "execution_count": null,
      "outputs": [
        {
          "output_type": "stream",
          "text": [
            "One mode of x1: 2\n",
            "All of the modes of x1: [2, 5]\n"
          ],
          "name": "stdout"
        }
      ]
    },
    {
      "cell_type": "code",
      "metadata": {
        "id": "nOfcAFS9Na0T"
      },
      "source": [
        "# return the modes of a list with multiple modes\n",
        "def mode(mylist):\n",
        "  count = {}\n",
        "  for e in mylist:\n",
        "    if e in count:\n",
        "      count[e] += 1\n",
        "    else:\n",
        "      count[e] = 1\n",
        "    \n",
        "  modes = {}\n",
        "  maxcount = 0\n",
        "  for (key, value) in count.items():\n",
        "    if value > maxcount:\n",
        "      maxcount = value\n",
        "      modes = {key}\n",
        "    elif maxcount == value:\n",
        "      modes.add(key)\n",
        "      \n",
        "  if len(mylist) == 1 or maxcount > 1:\n",
        "    return list(modes)\n",
        "  return 'no modes...'"
      ],
      "execution_count": null,
      "outputs": []
    },
    {
      "cell_type": "code",
      "metadata": {
        "colab": {
          "base_uri": "https://localhost:8080/"
        },
        "id": "ZpxmYSuyQ_c5",
        "outputId": "e087bff4-9f51-49e1-f438-56a02e042c3f"
      },
      "source": [
        "print(mode(data0))\n",
        "print(mode(data1))\n",
        "print(mode([1,1,1,3,3,3,2,4,5,6]))"
      ],
      "execution_count": null,
      "outputs": [
        {
          "output_type": "stream",
          "text": [
            "no modes...\n",
            "no modes...\n",
            "[1, 3]\n"
          ],
          "name": "stdout"
        }
      ]
    },
    {
      "cell_type": "markdown",
      "metadata": {
        "id": "QRn7MC52Udzr"
      },
      "source": [
        "For data that can take on many different values, such as returns data, there may not be any values that appear more than once. In this case we can bin values, like we do when constructing a histogram, and then find the mode of the data set where each value is replaced with the name of its bin. That is, we find which bin elements fall into most often."
      ]
    },
    {
      "cell_type": "code",
      "metadata": {
        "id": "UOoiUeCmUdzs",
        "outputId": "06613e22-d8c0-47d7-8a84-676d6d0341d1"
      },
      "source": [
        "# Get return data for an asset and compute the mode of the data set\n",
        "start = '2014-01-01'\n",
        "end = '2015-01-01'\n",
        "pricing = get_pricing('SPY', fields='price', start_date=start, end_date=end)\n",
        "returns = pricing.pct_change()[1:]\n",
        "print 'Mode of returns:', mode(returns)\n",
        "\n",
        "# Since all of the returns are distinct, we use a frequency distribution to get an alternative mode.\n",
        "# np.histogram returns the frequency distribution over the bins as well as the endpoints of the bins\n",
        "hist, bins = np.histogram(returns, 20) # Break data up into 20 bins\n",
        "maxfreq = max(hist)\n",
        "# Find all of the bins that are hit with frequency maxfreq, then print the intervals corresponding to them\n",
        "print 'Mode of bins:', [(bins[i], bins[i+1]) for i, j in enumerate(hist) if j == maxfreq]"
      ],
      "execution_count": null,
      "outputs": [
        {
          "output_type": "stream",
          "text": [
            "Mode of returns: No mode\n",
            "Mode of bins: [(-0.001330629195540084, 0.00097352774911502182)]\n"
          ],
          "name": "stdout"
        }
      ]
    },
    {
      "cell_type": "markdown",
      "metadata": {
        "id": "t_u-hHjiIzdg"
      },
      "source": [
        "Definimos una lista con datos no repetidos, el objetivo es encontrar, usando np.histogram, el bin en donde están representados mas elementos de la lista."
      ]
    },
    {
      "cell_type": "code",
      "metadata": {
        "id": "f0MEW0acqG_Y",
        "colab": {
          "base_uri": "https://localhost:8080/"
        },
        "outputId": "cff5cdb2-0050-4557-8d42-411d65937ef4"
      },
      "source": [
        "# np.histogram return dos listas\n",
        "# hist contiene el numero de ocurrencias en cada bin\n",
        "# bins contiene los intervalos que constituyen los bin\n",
        "data3 = [0, 1, 1.1, 1.11, 1.2, 1.14, 2, 3, 4, 5]\n",
        "hist, bins = np.histogram(data3)\n",
        "maxfreq = max(hist)\n",
        "# muestra el intervalo en donde se encuentra el mayor numero de ocurrencias\n",
        "[(bins[i], bins[i+1]) for i, j in enumerate(hist) if j == maxfreq]"
      ],
      "execution_count": null,
      "outputs": [
        {
          "output_type": "execute_result",
          "data": {
            "text/plain": [
              "[(1.0, 1.5)]"
            ]
          },
          "metadata": {
            "tags": []
          },
          "execution_count": 8
        }
      ]
    },
    {
      "cell_type": "markdown",
      "metadata": {
        "id": "WmJ_MEEQUdzs"
      },
      "source": [
        "# Geometric mean\n",
        "\n",
        "While the arithmetic mean averages using addition, the geometric mean uses multiplication:\n",
        "$$ G = \\sqrt[n]{X_1X_1\\ldots X_n} $$\n",
        "\n",
        "for observations $X_i \\geq 0$. We can also rewrite it as an arithmetic mean using logarithms:\n",
        "$$ \\ln G = \\frac{\\sum_{i=1}^n \\ln X_i}{n} $$\n",
        "\n",
        "The geometric mean is always less than or equal to the arithmetic mean (when working with nonnegative observations), with equality only when all of the observations are the same."
      ]
    },
    {
      "cell_type": "code",
      "metadata": {
        "id": "AkNxv4AiUdzt",
        "outputId": "4609b768-5805-4042-f485-2715aab5606c"
      },
      "source": [
        "# Use scipy's gmean function to compute the geometric mean\n",
        "print 'Geometric mean of x1:', stats.gmean(x1)\n",
        "print 'Geometric mean of x2:', stats.gmean(x2)"
      ],
      "execution_count": null,
      "outputs": [
        {
          "output_type": "stream",
          "text": [
            "Geometric mean of x1: 3.09410402498\n",
            "Geometric mean of x2: 4.55253458762\n"
          ],
          "name": "stdout"
        }
      ]
    },
    {
      "cell_type": "code",
      "metadata": {
        "colab": {
          "base_uri": "https://localhost:8080/"
        },
        "id": "kYDEJfeYKRRK",
        "outputId": "ff66b41e-4718-4162-81ba-946337f573dc"
      },
      "source": [
        "print('geometric mean data0:', stats.gmean(data0))\n",
        "print('geometric mean data1:', stats.gmean(data1))\n",
        "print('geometric mean data2:', stats.gmean(data2))"
      ],
      "execution_count": null,
      "outputs": [
        {
          "output_type": "stream",
          "text": [
            "geometric mean data0: 5.101698002503164\n",
            "geometric mean data1: 26.490833455576446\n",
            "geometric mean data2: 0.0\n"
          ],
          "name": "stdout"
        },
        {
          "output_type": "stream",
          "text": [
            "/usr/local/lib/python3.7/dist-packages/scipy/stats/stats.py:330: RuntimeWarning: divide by zero encountered in log\n",
            "  log_a = np.log(np.array(a, dtype=dtype))\n"
          ],
          "name": "stderr"
        }
      ]
    },
    {
      "cell_type": "markdown",
      "metadata": {
        "collapsed": true,
        "id": "jrzLmpskUdzt"
      },
      "source": [
        "What if we want to compute the geometric mean when we have negative observations? This problem is easy to solve in the case of asset returns, where our values are always at least $-1$. We can add 1 to a return $R_t$ to get $1 + R_t$, which is the ratio of the price of the asset for two consecutive periods (as opposed to the percent change between the prices, $R_t$). This quantity will always be nonnegative. So we can compute the geometric mean return,\n",
        "$$ R_G = \\sqrt[T]{(1 + R_1)\\ldots (1 + R_T)} - 1$$"
      ]
    },
    {
      "cell_type": "code",
      "metadata": {
        "id": "wxmM0P-IUdzu",
        "outputId": "276f0c5d-54ed-484a-cf85-2fbd5cb75472"
      },
      "source": [
        "# Add 1 to every value in the returns array and then compute R_G\n",
        "ratios = returns + np.ones(len(returns))\n",
        "R_G = stats.gmean(ratios) - 1\n",
        "print 'Geometric mean of returns:', R_G"
      ],
      "execution_count": null,
      "outputs": [
        {
          "output_type": "stream",
          "text": [
            "Geometric mean of returns: 0.000540898532267\n"
          ],
          "name": "stdout"
        }
      ]
    },
    {
      "cell_type": "code",
      "metadata": {
        "colab": {
          "base_uri": "https://localhost:8080/"
        },
        "id": "1ghiOZsrLi5I",
        "outputId": "b8d36bec-5d04-4851-ddb9-bcd892755387"
      },
      "source": [
        "ratios = data1 + np.ones(len(data1))\n",
        "stats.gmean(ratios) - 1"
      ],
      "execution_count": null,
      "outputs": [
        {
          "output_type": "execute_result",
          "data": {
            "text/plain": [
              "30.326078019949826"
            ]
          },
          "metadata": {
            "tags": []
          },
          "execution_count": 22
        }
      ]
    },
    {
      "cell_type": "markdown",
      "metadata": {
        "id": "GwpspU6SUdzw"
      },
      "source": [
        "The geometric mean is defined so that if the rate of return over the whole time period were constant and equal to $R_G$, the final price of the security would be the same as in the case of returns $R_1, \\ldots, R_T$."
      ]
    },
    {
      "cell_type": "code",
      "metadata": {
        "id": "EFMx0vTiUdzw",
        "outputId": "5c7dbf05-03c9-4c02-92a0-4f7246b62ba4"
      },
      "source": [
        "T = len(returns)\n",
        "init_price = pricing[0]\n",
        "final_price = pricing[T]\n",
        "print 'Initial price:', init_price\n",
        "print 'Final price:', final_price\n",
        "print 'Final price as computed with R_G:', init_price*(1 + R_G)**T"
      ],
      "execution_count": null,
      "outputs": [
        {
          "output_type": "stream",
          "text": [
            "Initial price: 179.444\n",
            "Final price: 205.53\n",
            "Final price as computed with R_G: 205.53\n"
          ],
          "name": "stdout"
        }
      ]
    },
    {
      "cell_type": "markdown",
      "metadata": {
        "id": "7PVz54hvUdzx"
      },
      "source": [
        "# Harmonic mean\n",
        "\n",
        "The harmonic mean is less commonly used than the other types of means. It is defined as\n",
        "$$ H = \\frac{n}{\\sum_{i=1}^n \\frac{1}{X_i}} $$\n",
        "\n",
        "As with the geometric mean, we can rewrite the harmonic mean to look like an arithmetic mean. The reciprocal of the harmonic mean is the arithmetic mean of the reciprocals of the observations:\n",
        "$$ \\frac{1}{H} = \\frac{\\sum_{i=1}^n \\frac{1}{X_i}}{n} $$\n",
        "\n",
        "The harmonic mean for nonnegative numbers $X_i$ is always at most the geometric mean (which is at most the arithmetic mean), and they are equal only when all of the observations are equal."
      ]
    },
    {
      "cell_type": "code",
      "metadata": {
        "id": "2b2PIS9GUdzy",
        "outputId": "4fd0daad-11c0-4d03-83f6-50cf9fba02b7"
      },
      "source": [
        "print 'Harmonic mean of x1:', stats.hmean(x1)\n",
        "print 'Harmonic mean of x2:', stats.hmean(x2)"
      ],
      "execution_count": null,
      "outputs": [
        {
          "output_type": "stream",
          "text": [
            "Harmonic mean of x1: 2.55902513328\n",
            "Harmonic mean of x2: 2.86972365624\n"
          ],
          "name": "stdout"
        }
      ]
    },
    {
      "cell_type": "code",
      "metadata": {
        "colab": {
          "base_uri": "https://localhost:8080/"
        },
        "id": "7vL_cmkwM-Tb",
        "outputId": "3b71c9cc-9045-4419-ef75-2868ac307f58"
      },
      "source": [
        "# calculo de media harmonica\n",
        "print(stats.hmean(data0))\n",
        "print(stats.hmean(data1))\n",
        "print(stats.hmean(data2))"
      ],
      "execution_count": null,
      "outputs": [
        {
          "output_type": "stream",
          "text": [
            "4.337349397590362\n",
            "5.204774127260583\n",
            "0.0\n"
          ],
          "name": "stdout"
        }
      ]
    },
    {
      "cell_type": "code",
      "metadata": {
        "id": "0c8rKpLycysR"
      },
      "source": [
        "import matplotlib.pyplot as plt\n",
        "%matplotlib inline"
      ],
      "execution_count": null,
      "outputs": []
    },
    {
      "cell_type": "code",
      "metadata": {
        "colab": {
          "base_uri": "https://localhost:8080/",
          "height": 283
        },
        "id": "Ee4P-5FJdofn",
        "outputId": "c0cc8fa9-7b4d-418a-cc0b-d1d84188c7ce"
      },
      "source": [
        "# data and it's means\n",
        "\n",
        "mydata = [3, 3, 4, 5, 3, 1, 3, 4, 3]\n",
        "\n",
        "plt.scatter(list(range(len(mydata))), mydata)\n",
        "plt.hlines([np.mean(mydata), stats.hmean(mydata), stats.gmean(mydata)], 0, 8, ['red', 'blue', 'yellow'])"
      ],
      "execution_count": null,
      "outputs": [
        {
          "output_type": "execute_result",
          "data": {
            "text/plain": [
              "<matplotlib.collections.LineCollection at 0x7fe101063b50>"
            ]
          },
          "metadata": {
            "tags": []
          },
          "execution_count": 25
        },
        {
          "output_type": "display_data",
          "data": {
            "image/png": "[encoded data removed]",
            "text/plain": [
              "<Figure size 432x288 with 1 Axes>"
            ]
          },
          "metadata": {
            "tags": [],
            "needs_background": "light"
          }
        }
      ]
    },
    {
      "cell_type": "markdown",
      "metadata": {
        "id": "HJyqviD7Udzz"
      },
      "source": [
        "The harmonic mean can be used when the data can be naturally phrased in terms of ratios. For instance, in the dollar-cost averaging strategy, a fixed amount is spent on shares of a stock at regular intervals. The higher the price of the stock, then, the fewer shares an investor following this strategy buys. The average (arithmetic mean) amount they pay for the stock is the harmonic mean of the prices."
      ]
    },
    {
      "cell_type": "markdown",
      "metadata": {
        "collapsed": true,
        "id": "3lK7xQXKUdzz"
      },
      "source": [
        "# Point Estimates Can Be Deceiving\n",
        "\n",
        "Means by nature hide a lot of information, as they collapse entire distributions into one number. As a result often 'point estimates' or metrics that use one number, can disguise large programs in your data. You should be careful to ensure that you are not losing key information by summarizing your data, and you should rarely, if ever, use a mean without also referring to a measure of spread.\n",
        "\n",
        "## Underlying Distribution Can be Wrong\n",
        "\n",
        "Even when you are using the right metrics for mean and spread, they can make no sense if your underlying distribution is not what you think it is. For instance, using standard deviation to measure frequency of an event will usually assume normality. Try not to assume distributions unless you have to, in which case you should rigourously check that the data do fit the distribution you are assuming."
      ]
    },
    {
      "cell_type": "markdown",
      "metadata": {
        "id": "SohiqeZMUdz0"
      },
      "source": [
        "## References\n",
        "* \"Quantitative Investment Analysis\", by DeFusco, McLeavey, Pinto, and Runkle"
      ]
    },
    {
      "cell_type": "markdown",
      "metadata": {
        "id": "Y9myWDB4Udz1"
      },
      "source": [
        "*This presentation is for informational purposes only and does not constitute an offer to sell, a solicitation to buy, or a recommendation for any security; nor does it constitute an offer to provide investment advisory or other services by Quantopian, Inc. (\"Quantopian\"). Nothing contained herein constitutes investment advice or offers any opinion with respect to the suitability of any security, and any views expressed herein should not be taken as advice to buy, sell, or hold any security or as an endorsement of any security or company.  In preparing the information contained herein, Quantopian, Inc. has not taken into account the investment needs, objectives, and financial circumstances of any particular investor. Any views expressed and data illustrated herein were prepared based upon information, believed to be reliable, available to Quantopian, Inc. at the time of publication. Quantopian makes no guarantees as to their accuracy or completeness. All information is subject to change and may quickly become unreliable for various reasons, including changes in market conditions or economic circumstances.*"
      ]
    }
  ]
}