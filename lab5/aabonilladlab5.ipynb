{
  "nbformat": 4,
  "nbformat_minor": 0,
  "metadata": {
    "colab": {
      "name": "aabonilladlab5.ipynb",
      "provenance": []
    },
    "kernelspec": {
      "name": "python3",
      "display_name": "Python 3"
    },
    "language_info": {
      "name": "python"
    }
  },
  "cells": [
    {
      "cell_type": "markdown",
      "metadata": {
        "id": "4NJql9N1E61G"
      },
      "source": [
        "#Métodos Numéricos UN 2021\n",
        "\n",
        "Andres Alejandro Bonilla Duarte\n",
        "\n",
        "*aabonilld@unal.edu.co*\n",
        "\n",
        "Lab 5. QUANTCONECT. Buy & Hold Equities."
      ]
    },
    {
      "cell_type": "markdown",
      "metadata": {
        "id": "zLfE2MFpFApu"
      },
      "source": [
        "Seleccinamos 5 stocks extosos sobre los cuales realizar la observación.\n",
        "\n",
        "Los stock se seleccionaron utilizando los ervicios de Yahoo Finance y Bloomberg."
      ]
    },
    {
      "cell_type": "code",
      "metadata": {
        "id": "H6cw6JWNgzoX"
      },
      "source": [
        "# Seguiminto de los stocks para periode de seis meses\n",
        "\n",
        "class BootCampTask(QCAlgorithm):\n",
        "\n",
        "    def Initialize(self):\n",
        "        # set date range\n",
        "        self.SetStartDate(2019, 1, 1)\n",
        "        self.SetEndDate(2019, 6, 1)\n",
        "        \n",
        "        # Select Data and set it to raw normalization form\n",
        "        self.indu = self.AddEquity(\"INDU\", Resolution.Minute)\n",
        "        self.indu.SetDataNormalizationMode(DataNormalizationMode.Raw)\n",
        "        self.ctrn = self.AddEquity(\"CTRN\", Resolution.Minute)\n",
        "        self.ctrn.SetDataNormalizationMode(DataNormalizationMode.Raw)\n",
        "        self.bsx = self.AddEquity(\"BSX\", Resolution.Minute)\n",
        "        self.bsx.SetDataNormalizationMode(DataNormalizationMode.Raw)\n",
        "        self.mrna = self.AddEquity(\"MRNA\", Resolution.Minute)\n",
        "        self.mrna.SetDataNormalizationMode(DataNormalizationMode.Raw)\n",
        "        self.mrna = self.AddEquity(\"BABA\", Resolution.Minute)\n",
        "        self.mrna.SetDataNormalizationMode(DataNormalizationMode.Raw)\n",
        "\n",
        "        # set starting cash \n",
        "        self.SetCash(25000)\n",
        "        \n",
        "        \n",
        "    def OnData(self, data):\n",
        "        if not self.Portfolio.Invested:\n",
        "          self.Debug(\"Number of IBM Shares: \" + str(self.Portfolio[\"INDU\"].Quantity))\n",
        "          self.Debug(\"Average Price:: \" + str(self.Portfolio[\"INDU\"].AveragePrice))\n",
        "          \n",
        "          self.Debug(\"Number of CTRN Shares: \" + str(self.Portfolio[\"CTRN\"].Quantity))\n",
        "          self.Debug(\"Average Price:: \" + str(self.Portfolio[\"CTRN\"].AveragePrice))\n",
        "          \n",
        "          self.Debug(\"Number of BSX Shares: \" + str(self.Portfolio[\"BSX\"].Quantity))\n",
        "          self.Debug(\"Average Price:: \" + str(self.Portfolio[\"BSX\"].AveragePrice))\n",
        "          \n",
        "          self.Debug(\"Number of MRNA Shares: \" + str(self.Portfolio[\"MRNA\"].Quantity))\n",
        "          self.Debug(\"Average Price:: \" + str(self.Portfolio[\"MRNA\"].AveragePrice))\n",
        "          \n",
        "          self.Debug(\"Number of MRNA Shares: \" + str(self.Portfolio[\"BABA\"].Quantity))\n",
        "          self.Debug(\"Average Price:: \" + str(self.Portfolio[\"BABA\"].AveragePrice))"
      ],
      "execution_count": null,
      "outputs": []
    },
    {
      "cell_type": "markdown",
      "metadata": {
        "id": "wJpY_8WM3AUv"
      },
      "source": [
        "Experimento con periodo de tiempo igual a dos años."
      ]
    },
    {
      "cell_type": "code",
      "metadata": {
        "id": "vw-o0l6D28JS"
      },
      "source": [
        "# Seguiminto de los stocks para periode de dos años meses\n",
        "# class bootCampTask inherits QCAlgorithm \n",
        "class BootCampTask(QCAlgorithm):\n",
        "\n",
        "    def Initialize(self):\n",
        "        # set date range\n",
        "        self.SetStartDate(2017, 1, 1)\n",
        "        self.SetEndDate(2019, 6, 1)\n",
        "        \n",
        "        # Select Data and set it to raw normalization form\n",
        "        self.indu = self.AddEquity(\"INDU\", Resolution.Minute)\n",
        "        self.indu.SetDataNormalizationMode(DataNormalizationMode.Raw)\n",
        "        self.ctrn = self.AddEquity(\"CTRN\", Resolution.Minute)\n",
        "        self.ctrn.SetDataNormalizationMode(DataNormalizationMode.Raw)\n",
        "        self.bsx = self.AddEquity(\"BSX\", Resolution.Minute)\n",
        "        self.bsx.SetDataNormalizationMode(DataNormalizationMode.Raw)\n",
        "        self.mrna = self.AddEquity(\"MRNA\", Resolution.Minute)\n",
        "        self.mrna.SetDataNormalizationMode(DataNormalizationMode.Raw)\n",
        "        self.mrna = self.AddEquity(\"BABA\", Resolution.Minute)\n",
        "        self.mrna.SetDataNormalizationMode(DataNormalizationMode.Raw)\n",
        "\n",
        "        # set starting cash \n",
        "        self.SetCash(25000)\n",
        "        \n",
        "        \n",
        "    def OnData(self, data):\n",
        "        if not self.Portfolio.Invested:\n",
        "          self.Debug(\"Number of IBM Shares: \" + str(self.Portfolio[\"INDU\"].Quantity))\n",
        "          self.Debug(\"Average Price:: \" + str(self.Portfolio[\"INDU\"].AveragePrice))\n",
        "          \n",
        "          self.Debug(\"Number of CTRN Shares: \" + str(self.Portfolio[\"CTRN\"].Quantity))\n",
        "          self.Debug(\"Average Price:: \" + str(self.Portfolio[\"CTRN\"].AveragePrice))\n",
        "          \n",
        "          self.Debug(\"Number of BSX Shares: \" + str(self.Portfolio[\"BSX\"].Quantity))\n",
        "          self.Debug(\"Average Price:: \" + str(self.Portfolio[\"BSX\"].AveragePrice))\n",
        "          \n",
        "          self.Debug(\"Number of MRNA Shares: \" + str(self.Portfolio[\"MRNA\"].Quantity))\n",
        "          self.Debug(\"Average Price:: \" + str(self.Portfolio[\"MRNA\"].AveragePrice))\n",
        "          \n",
        "          self.Debug(\"Number of MRNA Shares: \" + str(self.Portfolio[\"BABA\"].Quantity))\n",
        "          self.Debug(\"Average Price:: \" + str(self.Portfolio[\"BABA\"].AveragePrice))"
      ],
      "execution_count": null,
      "outputs": []
    }
  ]
}