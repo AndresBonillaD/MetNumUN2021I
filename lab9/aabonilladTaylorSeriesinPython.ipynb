{
  "nbformat": 4,
  "nbformat_minor": 0,
  "metadata": {
    "colab": {
      "name": "aabonilladLab9.ipynb",
      "provenance": [],
      "collapsed_sections": []
    },
    "kernelspec": {
      "name": "python3",
      "display_name": "Python 3"
    },
    "language_info": {
      "name": "python"
    }
  },
  "cells": [
    {
      "cell_type": "markdown",
      "metadata": {
        "id": "aPyFCGtxCypi"
      },
      "source": [
        "#Métodos Numéricos UN 2021 - I\n",
        "\n",
        "Andres Alejandro Bonilla Duarte\n",
        "\n",
        "aabonillad@unal.edu.co\n",
        "\n",
        "Lab 9. Taylor Series: Taylor Series in Python"
      ]
    },
    {
      "cell_type": "markdown",
      "metadata": {
        "id": "wb6TNQiVF8FG"
      },
      "source": [
        "##Taylor Series in Python\n",
        "\n",
        "A Taylor Series is an infinite series of mathematical terms that when summed together approximate a mathematical function. A Taylor Series can be used to approximate\n",
        "\n",
        "1.   $ln(x+1)$\n",
        "2.   $sin(x)$\n",
        "\n"
      ]
    },
    {
      "cell_type": "markdown",
      "metadata": {
        "id": "43jzOxm0GQvW"
      },
      "source": [
        "### Writing out earch term\n"
      ]
    },
    {
      "cell_type": "code",
      "metadata": {
        "id": "jYc5ZNvFZFPL"
      },
      "source": [
        "import math"
      ],
      "execution_count": null,
      "outputs": []
    },
    {
      "cell_type": "code",
      "metadata": {
        "id": "aPGnoWaZ-rY2"
      },
      "source": [
        "# serie de Taylor para ln(1 + x) con los terminos calculados individualmetne\n",
        "# x: valor objetivo que queremos calcular\n",
        "x = 0.1\n",
        "# a: punto sobre el que la aproximación se centra en la función\n",
        "a = 0\n",
        "terminos = []\n",
        "# target f(x = 0.1) = 0.095\n",
        "\n",
        "# terminos \n",
        "#f(a)\n",
        "terminos.append(math.log(1 + a))\n",
        "#f'(a)(x-a)/1!\n",
        "terminos.append((x - a) / (1 + a))\n",
        "#f''(a)(x-a)/2!\n",
        "terminos.append(-1*((x - a) / (1 + a))**2)\n",
        "#f'''(a)(x-a)/3!\n",
        "terminos.append(1*((x - a) / (1 + a))**3)\n",
        "#f^4(a)(x-a)/4!\n",
        "terminos.append(-1*((x - a) / (1 + a))**4)"
      ],
      "execution_count": null,
      "outputs": []
    },
    {
      "cell_type": "code",
      "metadata": {
        "colab": {
          "base_uri": "https://localhost:8080/"
        },
        "id": "ioLRCmUGaByD",
        "outputId": "bf2c607d-c1ed-43a3-dcf3-0f7c563948dc"
      },
      "source": [
        "# suma de terminos almacenados en la lista\n",
        "print(terminos)\n",
        "#res = ln(2 + 1)\n",
        "aprox = 0\n",
        "for i in range(len(terminos)):\n",
        "  aprox += terminos[i]\n",
        "print(aprox)\n",
        "print(math.log(0.1 + 1))"
      ],
      "execution_count": null,
      "outputs": [
        {
          "output_type": "stream",
          "text": [
            "[0.0, 0.1, -0.010000000000000002, 0.0010000000000000002, -0.00010000000000000002]\n",
            "0.0909\n",
            "0.09531017980432493\n"
          ],
          "name": "stdout"
        }
      ]
    },
    {
      "cell_type": "markdown",
      "metadata": {
        "id": "JFHrSflDGVXN"
      },
      "source": [
        "### For Loop for calculating Taylor Series"
      ]
    },
    {
      "cell_type": "code",
      "metadata": {
        "colab": {
          "base_uri": "https://localhost:8080/"
        },
        "id": "E9NMMSJ2z2Bt",
        "outputId": "ea577270-5bb4-4637-beed-48174f347b25"
      },
      "source": [
        "x = 0.1\n",
        "a = 0\n",
        "# numero de terminos a calcular de la serie infinita\n",
        "n = 10\n",
        "\n",
        "\n",
        "aprox = (math.log(1 + a))\n",
        "print(aprox)\n",
        "for i in range(1, n):\n",
        "  aprox += ( ( ((-1) ** (i + 1)) / (i) ) * ( (x - a) / (1 + a) ) ** (i) )\n",
        "  print(aprox)"
      ],
      "execution_count": null,
      "outputs": [
        {
          "output_type": "stream",
          "text": [
            "0.0\n",
            "0.1\n",
            "0.095\n",
            "0.09533333333333334\n",
            "0.09530833333333334\n",
            "0.09531033333333334\n",
            "0.09531016666666668\n",
            "0.09531018095238097\n",
            "0.09531017970238097\n",
            "0.09531017981349207\n"
          ],
          "name": "stdout"
        }
      ]
    },
    {
      "cell_type": "markdown",
      "metadata": {
        "id": "Eqo2kp4uGbn2"
      },
      "source": [
        "###Refactor the for loop into a function"
      ]
    },
    {
      "cell_type": "code",
      "metadata": {
        "id": "uP4dBWdvGoaD"
      },
      "source": [
        "# reescribir el cálculo a manera de función\n",
        "\n",
        "# n: numero de terminos sumados en la serie\n",
        "# x: argumento para la función f(x) que queremos aproximar\n",
        "\n",
        "def funcion_log(x, n):\n",
        "  a = 0\n",
        "  aprox = (math.log(1 + a))\n",
        "\n",
        "  for i in range(1, n):\n",
        "    aprox += ( ( ((-1) ** (i + 1)) / (i) ) * ( (x - a) / (1 + a) ) ** (i) )\n",
        "  \n",
        "  return aprox"
      ],
      "execution_count": null,
      "outputs": []
    },
    {
      "cell_type": "code",
      "metadata": {
        "colab": {
          "base_uri": "https://localhost:8080/"
        },
        "id": "EZBoMpFA-f23",
        "outputId": "fd9e2495-fe8a-488e-b58f-dd275cfbfc28"
      },
      "source": [
        "funcion_log(0.1, 100)"
      ],
      "execution_count": null,
      "outputs": [
        {
          "output_type": "execute_result",
          "data": {
            "text/plain": [
              "0.09531017980432488"
            ]
          },
          "metadata": {
            "tags": []
          },
          "execution_count": 37
        }
      ]
    },
    {
      "cell_type": "code",
      "metadata": {
        "colab": {
          "base_uri": "https://localhost:8080/"
        },
        "id": "GejSk8zN-tEl",
        "outputId": "1c0afd39-3e5b-4ed1-c079-5e85b056220e"
      },
      "source": [
        "math.log(1 + .1)"
      ],
      "execution_count": null,
      "outputs": [
        {
          "output_type": "execute_result",
          "data": {
            "text/plain": [
              "0.09531017980432493"
            ]
          },
          "metadata": {
            "tags": []
          },
          "execution_count": 38
        }
      ]
    },
    {
      "cell_type": "markdown",
      "metadata": {
        "id": "Qt8vGyRL_EeF"
      },
      "source": [
        "La funcion con la inclusion del parametro x permite la livertad de calcular mas valores de la función $f(x)$"
      ]
    },
    {
      "cell_type": "code",
      "metadata": {
        "colab": {
          "base_uri": "https://localhost:8080/"
        },
        "id": "sfZwQOvB_Tdl",
        "outputId": "cf021791-f69f-4e26-f425-6f41de1581da"
      },
      "source": [
        "# x = 1\n",
        "funcion_log(1, 100)"
      ],
      "execution_count": null,
      "outputs": [
        {
          "output_type": "execute_result",
          "data": {
            "text/plain": [
              "0.698172179310195"
            ]
          },
          "metadata": {
            "tags": []
          },
          "execution_count": 42
        }
      ]
    },
    {
      "cell_type": "code",
      "metadata": {
        "colab": {
          "base_uri": "https://localhost:8080/"
        },
        "id": "oc-vKkSb_fgi",
        "outputId": "5922e133-81e8-4ff6-8c86-16c721b981dd"
      },
      "source": [
        "math.log(1 + 1)"
      ],
      "execution_count": null,
      "outputs": [
        {
          "output_type": "execute_result",
          "data": {
            "text/plain": [
              "0.6931471805599453"
            ]
          },
          "metadata": {
            "tags": []
          },
          "execution_count": 41
        }
      ]
    },
    {
      "cell_type": "markdown",
      "metadata": {
        "id": "CTujBDB6GpZO"
      },
      "source": [
        "### Use a for loop to calculete the difference between the Taylo Series expansion and Python's ```exp()``` function."
      ]
    },
    {
      "cell_type": "code",
      "metadata": {
        "id": "e55j4eNuGK6T"
      },
      "source": [
        "# añadir a la función el parametro float:a para establecer otro grado de livertad al calculo\n",
        "# podemos controlar el punto a en donde se centra la aproximación de la curva\n",
        "\n",
        "def funcion_log(x, n, a):\n",
        "  aprox = (math.log(1 + a))\n",
        "  for i in range(1, n):\n",
        "    aprox += ( ( ((-1) ** (i + 1)) / (i) ) * ( (x - a) / (1 + a) ) ** (i) )\n",
        "  return aprox"
      ],
      "execution_count": null,
      "outputs": []
    },
    {
      "cell_type": "code",
      "metadata": {
        "colab": {
          "base_uri": "https://localhost:8080/"
        },
        "id": "sx20-6KgHVa2",
        "outputId": "4ed13595-2790-4697-c93c-bb013c2e66da"
      },
      "source": [
        "# se pueden construir graficas mostrando relaciones entre a, x y el desempeño del método\n",
        "\n",
        "x = 1\n",
        "a = 0.7\n",
        "\n",
        "ln_exp = math.log(1 + x)\n",
        "print('Valor Esperado', ln_exp)\n",
        "\n",
        "for i in range(1, 11):\n",
        "  ln_aprox = funcion_log(x , i, a)  \n",
        "  ln_error = abs(ln_aprox - ln_exp)\n",
        "  print(f'{i}terms: TS_approx= {ln_aprox} E= {ln_error}')"
      ],
      "execution_count": null,
      "outputs": [
        {
          "output_type": "stream",
          "text": [
            "Valor Esperado 0.6931471805599453\n",
            "1terms: TS_approx= 0.5306282510621704 E= 0.1625189294977749\n",
            "2terms: TS_approx= 0.7070988392974645 E= 0.013951658737519246\n",
            "3terms: TS_approx= 0.6915279050414092 E= 0.001619275518536134\n",
            "4terms: TS_approx= 0.6933597796597686 E= 0.00021259909982329628\n",
            "5terms: TS_approx= 0.6931173256661621 E= 2.9854893783154424e-05\n",
            "6terms: TS_approx= 0.6931515544652596 E= 4.373905314269955e-06\n",
            "7terms: TS_approx= 0.6931465208183335 E= 6.597416117859467e-07\n",
            "8terms: TS_approx= 0.6931472822103055 E= 1.0165036024023522e-07\n",
            "9terms: TS_approx= 0.6931471646424275 E= 1.591751774832062e-08\n",
            "10terms: TS_approx= 0.6931471830844477 E= 2.524502384915195e-09\n"
          ],
          "name": "stdout"
        }
      ]
    },
    {
      "cell_type": "markdown",
      "metadata": {
        "id": "KBT6s1FgHasv"
      },
      "source": [
        "###Use a ```break``` statement to exit a for loop early.\n"
      ]
    },
    {
      "cell_type": "code",
      "metadata": {
        "colab": {
          "base_uri": "https://localhost:8080/"
        },
        "id": "qyvmaintHpsS",
        "outputId": "23d9854d-bda3-4699-c91a-36064c1c09ce"
      },
      "source": [
        "x = 1\n",
        "a = 0.7\n",
        "\n",
        "ln_exp = math.log(1 + x)\n",
        "print('Valor Esperado', ln_exp)\n",
        "\n",
        "for i in range(1, 11):\n",
        "  ln_aprox = funcion_log(x , i, a)  \n",
        "  ln_error = abs(ln_aprox - ln_exp)\n",
        "  print(f'{i}terms: TS_approx= {ln_aprox} E= {ln_error}')\n",
        "  if ln_error < 1e-10:\n",
        "    break"
      ],
      "execution_count": null,
      "outputs": [
        {
          "output_type": "stream",
          "text": [
            "Valor Esperado 0.6931471805599453\n",
            "1terms: TS_approx= 0.5306282510621704 E= 0.1625189294977749\n",
            "2terms: TS_approx= 0.7070988392974645 E= 0.013951658737519246\n",
            "3terms: TS_approx= 0.6915279050414092 E= 0.001619275518536134\n",
            "4terms: TS_approx= 0.6933597796597686 E= 0.00021259909982329628\n",
            "5terms: TS_approx= 0.6931173256661621 E= 2.9854893783154424e-05\n",
            "6terms: TS_approx= 0.6931515544652596 E= 4.373905314269955e-06\n",
            "7terms: TS_approx= 0.6931465208183335 E= 6.597416117859467e-07\n",
            "8terms: TS_approx= 0.6931472822103055 E= 1.0165036024023522e-07\n",
            "9terms: TS_approx= 0.6931471646424275 E= 1.591751774832062e-08\n",
            "10terms: TS_approx= 0.6931471830844477 E= 2.524502384915195e-09\n"
          ],
          "name": "stdout"
        }
      ]
    },
    {
      "cell_type": "markdown",
      "metadata": {
        "id": "oK81wZ-pIN8O"
      },
      "source": [
        "### Create a funtion to estimate sin(x) using Taylor Series"
      ]
    },
    {
      "cell_type": "code",
      "metadata": {
        "id": "RSi3ogPJIe-S"
      },
      "source": [
        "import math "
      ],
      "execution_count": 1,
      "outputs": []
    },
    {
      "cell_type": "code",
      "metadata": {
        "id": "YOK75XR5awke"
      },
      "source": [
        "#Codigo de funcion para calcular el valor de seno(x) proximo a 0\n",
        "\n",
        "def funcSin(x, n):\n",
        "  sin_aprox = 0\n",
        "  for i in range(n):\n",
        "    coef = (-1) ** i\n",
        "    num = x ** (2 * i + 1)\n",
        "    denom = math.factorial(2 * i + 1)\n",
        "    sin_aprox += coef * (num / denom)\n",
        "  return sin_aprox"
      ],
      "execution_count": 7,
      "outputs": []
    },
    {
      "cell_type": "code",
      "metadata": {
        "colab": {
          "base_uri": "https://localhost:8080/"
        },
        "id": "sO8NRMwrb7NG",
        "outputId": "058f8aa2-8b04-442f-a4f2-3163a2ac9aa3"
      },
      "source": [
        "# el metodo requiere el uso del angulo en radianes\n",
        "\n",
        "a = math.radians(60)\n",
        "print(math.sin(a))\n",
        "print(funcSin(a, 5))"
      ],
      "execution_count": 20,
      "outputs": [
        {
          "output_type": "stream",
          "text": [
            "0.8660254037844386\n",
            "0.8660254450997811\n"
          ],
          "name": "stdout"
        }
      ]
    },
    {
      "cell_type": "markdown",
      "metadata": {
        "id": "fk2By73gIhrU"
      },
      "source": [
        "###Build a plot to compare the Taylor Series approximation to Python´s ```sin()``` funtion.\n",
        "\n",
        "\n",
        "\n",
        "\n",
        "\n"
      ]
    },
    {
      "cell_type": "code",
      "metadata": {
        "id": "5NlM2XLIIhe0"
      },
      "source": [
        "import numpy as np\n",
        "import matplotlib.pyplot as plt\n",
        "%matplotlib inline"
      ],
      "execution_count": 16,
      "outputs": []
    },
    {
      "cell_type": "code",
      "metadata": {
        "colab": {
          "base_uri": "https://localhost:8080/",
          "height": 283
        },
        "id": "HQkX606bd4G2",
        "outputId": "6cdbac73-f14d-4b3f-cd90-e99fe0439fe1"
      },
      "source": [
        "angles = np.arange(-2*np.pi, 2*np.pi, 0.1)\n",
        "p_sin = np.sin(angles)\n",
        "t_sin = [funcSin(angle, 3) for angle in angles]\n",
        "\n",
        "fig, ax = plt.subplots()\n",
        "ax.plot(angles, p_sin)\n",
        "ax.plot(angles, t_sin)\n",
        "ax.set_ylim([-5,5])\n",
        "ax.legend(['sin(x) funtion', 'Taylor Series - 3 terms'])"
      ],
      "execution_count": 25,
      "outputs": [
        {
          "output_type": "execute_result",
          "data": {
            "text/plain": [
              "<matplotlib.legend.Legend at 0x7f5c72371750>"
            ]
          },
          "metadata": {
            "tags": []
          },
          "execution_count": 25
        },
        {
          "output_type": "display_data",
          "data": {
            "image/png": "[encoded data removed]",
            "text/plain": [
              "<Figure size 432x288 with 1 Axes>"
            ]
          },
          "metadata": {
            "tags": [],
            "needs_background": "light"
          }
        }
      ]
    },
    {
      "cell_type": "code",
      "metadata": {
        "colab": {
          "base_uri": "https://localhost:8080/",
          "height": 287
        },
        "id": "9uM9-j7UfzTN",
        "outputId": "aa6de42b-50fa-48e8-e0d8-db0b81900ed5"
      },
      "source": [
        "angles = np.arange(-2*np.pi, 2*np.pi, 0.1)\n",
        "p_sin = np.sin(angles)\n",
        "\n",
        "fig, ax = plt.subplots()\n",
        "ax.plot(angles, p_sin)\n",
        "\n",
        "for i in range(1,6):\n",
        "  t_sin = [funcSin(angle, i) for angle in angles]\n",
        "  ax.plot(angles, t_sin)\n",
        "\n",
        "ax.set_ylim([-7,4])\n",
        "\n",
        "# set legend\n",
        "legendList = ['sin() function']\n",
        "for i in range(1, 6):\n",
        "  legendList.append(f'Taylor Series - {i} Terms')\n",
        "ax.legend(legendList, loc=3)\n",
        "\n",
        "plt.show"
      ],
      "execution_count": 28,
      "outputs": [
        {
          "output_type": "execute_result",
          "data": {
            "text/plain": [
              "<function matplotlib.pyplot.show>"
            ]
          },
          "metadata": {
            "tags": []
          },
          "execution_count": 28
        },
        {
          "output_type": "display_data",
          "data": {
            "image/png": "[encoded data removed]",
            "text/plain": [
              "<Figure size 432x288 with 1 Axes>"
            ]
          },
          "metadata": {
            "tags": [],
            "needs_background": "light"
          }
        }
      ]
    },
    {
      "cell_type": "markdown",
      "metadata": {
        "id": "mgr1MQkSfzIU"
      },
      "source": [
        ""
      ]
    }
  ]
}