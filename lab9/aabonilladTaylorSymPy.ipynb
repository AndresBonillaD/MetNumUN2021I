{
  "nbformat": 4,
  "nbformat_minor": 0,
  "metadata": {
    "colab": {
      "name": "aabonilladTaylorSymPy.ipynb",
      "provenance": [],
      "collapsed_sections": []
    },
    "kernelspec": {
      "name": "python3",
      "display_name": "Python 3"
    }
  },
  "cells": [
    {
      "cell_type": "markdown",
      "metadata": {
        "id": "a-cvBeMp56P2"
      },
      "source": [
        "#Métodos Numéricos UN 2021 - I\n",
        "\n",
        "Andres Alejandro Bonilla Duarte\n",
        "\n",
        "aabonillad@unal.edu.co\n",
        "\n",
        "Lab 9. SymPy"
      ]
    },
    {
      "cell_type": "markdown",
      "metadata": {
        "id": "GFmthnDoq6j6"
      },
      "source": [
        "Taylor Series Expansion with Python from Data Science Fabric \n",
        "\n",
        "https://dsfabric.org/taylor-series-expansion-with-python"
      ]
    },
    {
      "cell_type": "markdown",
      "metadata": {
        "id": "BJRpUr-UGHlZ"
      },
      "source": [
        "Preparar los reursos, bibliotecas y funciones necesarias"
      ]
    },
    {
      "cell_type": "code",
      "metadata": {
        "id": "h7GY4uApqKr7"
      },
      "source": [
        "from sympy import series, Symbol\n",
        "from sympy.functions import sin, cos, exp, log\n",
        "from sympy.plotting import plot\n",
        "import matplotlib.pyplot as plt"
      ],
      "execution_count": 14,
      "outputs": []
    },
    {
      "cell_type": "code",
      "metadata": {
        "id": "Nnpm4V-AqdMs"
      },
      "source": [
        "# Define symbol\n",
        "x = Symbol('x')"
      ],
      "execution_count": 2,
      "outputs": []
    },
    {
      "cell_type": "code",
      "metadata": {
        "id": "_bF3LYe8qmNp"
      },
      "source": [
        "# Function for Taylor Series Expansion\n",
        "\n",
        "def taylor(function, x0, n):\n",
        "    \"\"\"\n",
        "    Parameter \"function\" is our function which we want to approximate\n",
        "    \"x0\" is the point where to approximate\n",
        "    \"n\" is the order of approximation\n",
        "    \"\"\"\n",
        "    return function.series(x,x0,n).removeO()"
      ],
      "execution_count": 3,
      "outputs": []
    },
    {
      "cell_type": "markdown",
      "metadata": {
        "id": "FoWnxhHbGTZV"
      },
      "source": [
        "Demostracíon de SymPy y lanotación que permite"
      ]
    },
    {
      "cell_type": "code",
      "metadata": {
        "colab": {
          "base_uri": "https://localhost:8080/"
        },
        "id": "OrymCEuq_Tck",
        "outputId": "c9239002-829d-4e8b-cc30-470dce127150"
      },
      "source": [
        "# representación simbolica\n",
        "\n",
        "# sin(x)\n",
        "print('sin(x) ≅', taylor(sin(x), 0, 4))\n",
        "# ln(1 + x)\n",
        "print('ln(1 + x) ≅', taylor(log(x + 1), 0, 4))"
      ],
      "execution_count": 35,
      "outputs": [
        {
          "output_type": "stream",
          "text": [
            "sin(x) ≅ -x**3/6 + x\n",
            "ln(1 + x) ≅ x**3/3 - x**2/2 + x\n"
          ],
          "name": "stdout"
        }
      ]
    },
    {
      "cell_type": "code",
      "metadata": {
        "id": "RHDTuup3q3r0",
        "colab": {
          "base_uri": "https://localhost:8080/"
        },
        "outputId": "265500df-d373-42ef-ce80-66c205ad7f61"
      },
      "source": [
        "print('sin(x) ≅', taylor(sin(x), 0, 4))\n",
        "\n",
        "print('cos(x) ≅', taylor(cos(x), 0, 4))\n",
        "\n",
        "print('e(x) ≅', taylor(exp(x), 0, 4))"
      ],
      "execution_count": null,
      "outputs": [
        {
          "output_type": "stream",
          "text": [
            "sin(x) ≅ -x**3/6 + x\n",
            "cos(x) ≅ -x**2/2 + 1\n",
            "e(x) ≅ x**3/6 + x**2/2 + x + 1\n"
          ],
          "name": "stdout"
        }
      ]
    },
    {
      "cell_type": "code",
      "metadata": {
        "colab": {
          "base_uri": "https://localhost:8080/"
        },
        "id": "-Z5N8NB1_r1_",
        "outputId": "3e963e4e-de8f-4d04-c517-353991918e3f"
      },
      "source": [
        "# representación simbolica Evaluación en x = 1\n",
        "\n",
        "# sin(x)\n",
        "print('sin(x) ≅', taylor(sin(x), 0, 4).subs(x,1))\n",
        "# ln(1 + x)\n",
        "print('ln(1 + x) ≅', taylor(log(x + 1), 0, 4).subs(x,1))"
      ],
      "execution_count": 34,
      "outputs": [
        {
          "output_type": "stream",
          "text": [
            "sin(x) ≅ 5/6\n",
            "ln(1 + x) ≅ 5/6\n"
          ],
          "name": "stdout"
        }
      ]
    },
    {
      "cell_type": "code",
      "metadata": {
        "id": "WVlow_HJs9Uj",
        "colab": {
          "base_uri": "https://localhost:8080/"
        },
        "outputId": "2df6dfdd-e9a1-427f-de11-004262397d1e"
      },
      "source": [
        "print('sin(1) =', taylor(sin(x), 0, 4).subs(x,1))\n",
        "\n",
        "print('cos(1) =', taylor(cos(x), 0, 4).subs(x,1))\n",
        "\n",
        "print('e(1) =', taylor(exp(x), 0, 4).subs(x,1))"
      ],
      "execution_count": null,
      "outputs": [
        {
          "output_type": "stream",
          "text": [
            "sin(1) = 5/6\n",
            "cos(1) = 1/2\n",
            "e(1) = 8/3\n"
          ],
          "name": "stdout"
        }
      ]
    },
    {
      "cell_type": "markdown",
      "metadata": {
        "id": "2CEDwNhIH0s_"
      },
      "source": [
        "Cambionde los polinomios deacuerdo con el orden de aproximación."
      ]
    },
    {
      "cell_type": "code",
      "metadata": {
        "colab": {
          "base_uri": "https://localhost:8080/"
        },
        "id": "hsDMrd9BDoJf",
        "outputId": "599c3733-1143-4226-84ad-3dc23c5a4616"
      },
      "source": [
        "# ln(x + 1)\n",
        "n = 10\n",
        "for i in range(n):\n",
        "  print(f'Taylor {i} ln(1 + x) ≅', taylor(ln(1 + x), 0, i))"
      ],
      "execution_count": 36,
      "outputs": [
        {
          "output_type": "stream",
          "text": [
            "Taylor 0 ln(1 + x) ≅ 0\n",
            "Taylor 1 ln(1 + x) ≅ 0\n",
            "Taylor 2 ln(1 + x) ≅ x\n",
            "Taylor 3 ln(1 + x) ≅ -x**2/2 + x\n",
            "Taylor 4 ln(1 + x) ≅ x**3/3 - x**2/2 + x\n",
            "Taylor 5 ln(1 + x) ≅ -x**4/4 + x**3/3 - x**2/2 + x\n",
            "Taylor 6 ln(1 + x) ≅ x**5/5 - x**4/4 + x**3/3 - x**2/2 + x\n",
            "Taylor 7 ln(1 + x) ≅ -x**6/6 + x**5/5 - x**4/4 + x**3/3 - x**2/2 + x\n",
            "Taylor 8 ln(1 + x) ≅ x**7/7 - x**6/6 + x**5/5 - x**4/4 + x**3/3 - x**2/2 + x\n",
            "Taylor 9 ln(1 + x) ≅ -x**8/8 + x**7/7 - x**6/6 + x**5/5 - x**4/4 + x**3/3 - x**2/2 + x\n"
          ],
          "name": "stdout"
        }
      ]
    },
    {
      "cell_type": "code",
      "metadata": {
        "colab": {
          "base_uri": "https://localhost:8080/"
        },
        "id": "ai2hBgx4ESkX",
        "outputId": "f88295e8-5352-4df3-d7dd-a61b3ce431a5"
      },
      "source": [
        "# sin(x)\n",
        "\n",
        "n = 10\n",
        "for i in range(n):\n",
        "  print(f'Taylor {i} sin(x) ≅', taylor(sin(x), 0, i))"
      ],
      "execution_count": 21,
      "outputs": [
        {
          "output_type": "stream",
          "text": [
            "Taylor 0 sin(x) ≅ 0\n",
            "Taylor 1 sin(x) ≅ 0\n",
            "Taylor 2 sin(x) ≅ x\n",
            "Taylor 3 sin(x) ≅ x\n",
            "Taylor 4 sin(x) ≅ -x**3/6 + x\n",
            "Taylor 5 sin(x) ≅ -x**3/6 + x\n",
            "Taylor 6 sin(x) ≅ x**5/120 - x**3/6 + x\n",
            "Taylor 7 sin(x) ≅ x**5/120 - x**3/6 + x\n",
            "Taylor 8 sin(x) ≅ -x**7/5040 + x**5/120 - x**3/6 + x\n",
            "Taylor 9 sin(x) ≅ -x**7/5040 + x**5/120 - x**3/6 + x\n"
          ],
          "name": "stdout"
        }
      ]
    },
    {
      "cell_type": "code",
      "metadata": {
        "id": "U6mI5cVErKKb",
        "colab": {
          "base_uri": "https://localhost:8080/"
        },
        "outputId": "fd27378f-215d-40ec-cc5b-cd7f0e692922"
      },
      "source": [
        "print('Taylor 0 exp(x) ≅', taylor(exp(x), 0, 0))\n",
        "print('Taylor 1 exp(x) ≅', taylor(exp(x), 0, 1))\n",
        "print('Taylor 2 exp(x) ≅', taylor(exp(x), 0, 2))\n",
        "print('Taylor 3 exp(x) ≅', taylor(exp(x), 0, 3))\n",
        "print('Taylor 4 exp(x) ≅', taylor(exp(x), 0, 4))\n",
        "print('Taylor 5 exp(x) ≅', taylor(exp(x), 0, 5))\n",
        "print('Taylor 6 exp(x) ≅', taylor(exp(x), 0, 6))\n",
        "print('Taylor 7 exp(x) ≅', taylor(exp(x), 0, 7))\n",
        "print('Taylor 8 exp(x) ≅', taylor(exp(x), 0, 8))"
      ],
      "execution_count": null,
      "outputs": [
        {
          "output_type": "stream",
          "text": [
            "Taylor 0 exp(x) ≅ 0\n",
            "Taylor 1 exp(x) ≅ 1\n",
            "Taylor 2 exp(x) ≅ x + 1\n",
            "Taylor 3 exp(x) ≅ x**2/2 + x + 1\n",
            "Taylor 4 exp(x) ≅ x**3/6 + x**2/2 + x + 1\n",
            "Taylor 5 exp(x) ≅ x**4/24 + x**3/6 + x**2/2 + x + 1\n",
            "Taylor 6 exp(x) ≅ x**5/120 + x**4/24 + x**3/6 + x**2/2 + x + 1\n",
            "Taylor 7 exp(x) ≅ x**6/720 + x**5/120 + x**4/24 + x**3/6 + x**2/2 + x + 1\n",
            "Taylor 8 exp(x) ≅ x**7/5040 + x**6/720 + x**5/120 + x**4/24 + x**3/6 + x**2/2 + x + 1\n"
          ],
          "name": "stdout"
        }
      ]
    },
    {
      "cell_type": "markdown",
      "metadata": {
        "id": "OiwfLxd1IHyw"
      },
      "source": [
        "Evalución de la función en $x = 2$ de manera simbólica y numérica de punto flotante."
      ]
    },
    {
      "cell_type": "code",
      "metadata": {
        "colab": {
          "base_uri": "https://localhost:8080/"
        },
        "id": "5JrsGtbSEyO2",
        "outputId": "798dcd27-8e59-443d-ffc7-258e9381255d"
      },
      "source": [
        "# ln(x + 1)\n",
        "n = 10\n",
        "for i in range(n):\n",
        "  print(f'Taylor {i} ln(2 + 1) ≅', taylor(ln(x + 1), 0, i).subs(x,2), '=', taylor(ln(x + 1), 0, i).subs(x,2).evalf())"
      ],
      "execution_count": 28,
      "outputs": [
        {
          "output_type": "stream",
          "text": [
            "Taylor 0 ln(2 + 1) ≅ 0 = 0\n",
            "Taylor 1 ln(2 + 1) ≅ 0 = 0\n",
            "Taylor 2 ln(2 + 1) ≅ 2 = 2.00000000000000\n",
            "Taylor 3 ln(2 + 1) ≅ 0 = 0\n",
            "Taylor 4 ln(2 + 1) ≅ 8/3 = 2.66666666666667\n",
            "Taylor 5 ln(2 + 1) ≅ -4/3 = -1.33333333333333\n",
            "Taylor 6 ln(2 + 1) ≅ 76/15 = 5.06666666666667\n",
            "Taylor 7 ln(2 + 1) ≅ -28/5 = -5.60000000000000\n",
            "Taylor 8 ln(2 + 1) ≅ 444/35 = 12.6857142857143\n",
            "Taylor 9 ln(2 + 1) ≅ -676/35 = -19.3142857142857\n"
          ],
          "name": "stdout"
        }
      ]
    },
    {
      "cell_type": "code",
      "metadata": {
        "colab": {
          "base_uri": "https://localhost:8080/"
        },
        "id": "p4-VA_WxFLRq",
        "outputId": "b7589a27-b4d9-4994-c2e7-6a31ebaa4ccf"
      },
      "source": [
        "# sin(x)\n",
        "n = 10\n",
        "for i in range(n):\n",
        "  print(f'Taylor {i} sin(2) ≅', taylor(sin(x), 0, i).subs(x,2), '=', taylor(sin(x), 0, i).subs(x,2).evalf())"
      ],
      "execution_count": 26,
      "outputs": [
        {
          "output_type": "stream",
          "text": [
            "Taylor 0 sin(2) ≅ 0 = 0\n",
            "Taylor 1 sin(2) ≅ 0 = 0\n",
            "Taylor 2 sin(2) ≅ 2 = 2.00000000000000\n",
            "Taylor 3 sin(2) ≅ 2 = 2.00000000000000\n",
            "Taylor 4 sin(2) ≅ 2/3 = 0.666666666666667\n",
            "Taylor 5 sin(2) ≅ 2/3 = 0.666666666666667\n",
            "Taylor 6 sin(2) ≅ 14/15 = 0.933333333333333\n",
            "Taylor 7 sin(2) ≅ 14/15 = 0.933333333333333\n",
            "Taylor 8 sin(2) ≅ 286/315 = 0.907936507936508\n",
            "Taylor 9 sin(2) ≅ 286/315 = 0.907936507936508\n"
          ],
          "name": "stdout"
        }
      ]
    },
    {
      "cell_type": "code",
      "metadata": {
        "id": "ZvqiDRLOtAFa",
        "colab": {
          "base_uri": "https://localhost:8080/"
        },
        "outputId": "74849734-f3b3-45e3-fe30-92b48106d3de"
      },
      "source": [
        "\n",
        "print('Taylor 0 exp(x) ≅', taylor(exp(x), 0, 0).subs(x,2),' = ',taylor(exp(x), 0, 0).subs(x,2).evalf())\n",
        "print('Taylor 1 exp(x) ≅', taylor(exp(x), 0, 1).subs(x,2),' = ',taylor(exp(x), 0, 1).subs(x,2).evalf())\n",
        "print('Taylor 2 exp(x) ≅', taylor(exp(x), 0, 2).subs(x,2),' = ',taylor(exp(x), 0, 2).subs(x,2).evalf())\n",
        "print('Taylor 3 exp(x) ≅', taylor(exp(x), 0, 3).subs(x,2),' = ',taylor(exp(x), 0, 3).subs(x,2).evalf())\n",
        "print('Taylor 4 exp(x) ≅', taylor(exp(x), 0, 4).subs(x,2),' = ',taylor(exp(x), 0, 4).subs(x,2).evalf())\n",
        "print('Taylor 5 exp(x) ≅', taylor(exp(x), 0, 5).subs(x,2),' = ',taylor(exp(x), 0, 5).subs(x,2).evalf())\n",
        "print('Taylor 6 exp(x) ≅', taylor(exp(x), 0, 6).subs(x,2),' = ',taylor(exp(x), 0, 6).subs(x,2).evalf())\n",
        "print('Taylor 7 exp(x) ≅', taylor(exp(x), 0, 8).subs(x,2),' = ',taylor(exp(x), 0, 7).subs(x,2).evalf())"
      ],
      "execution_count": 23,
      "outputs": [
        {
          "output_type": "stream",
          "text": [
            "Taylor 0 exp(x) ≅ 0  =  0\n",
            "Taylor 1 exp(x) ≅ 1  =  1.00000000000000\n",
            "Taylor 2 exp(x) ≅ 3  =  3.00000000000000\n",
            "Taylor 3 exp(x) ≅ 5  =  5.00000000000000\n",
            "Taylor 4 exp(x) ≅ 19/3  =  6.33333333333333\n",
            "Taylor 5 exp(x) ≅ 7  =  7.00000000000000\n",
            "Taylor 6 exp(x) ≅ 109/15  =  7.26666666666667\n",
            "Taylor 7 exp(x) ≅ 155/21  =  7.35555555555556\n"
          ],
          "name": "stdout"
        }
      ]
    },
    {
      "cell_type": "markdown",
      "metadata": {
        "id": "wg1IyOgdInTw"
      },
      "source": [
        "Comparación de los diferentes resultados que ofrece Python"
      ]
    },
    {
      "cell_type": "code",
      "metadata": {
        "id": "5GuGwxy4JeZd"
      },
      "source": [
        "import math"
      ],
      "execution_count": null,
      "outputs": []
    },
    {
      "cell_type": "code",
      "metadata": {
        "colab": {
          "base_uri": "https://localhost:8080/"
        },
        "id": "9TVwyfmiIyGr",
        "outputId": "6147770b-47e1-4c9f-f6b3-0adabce4fe78"
      },
      "source": [
        "# sin(x)\n",
        "print('sympy sin(x).subs(x,2) =', sin(x).subs(x,2))\n",
        "print('sympy sin(x).subs(x,2).evalf() =', sin(x).subs(x,2).evalf())\n",
        "print('math.sin(2) =', math.sin(2))"
      ],
      "execution_count": 37,
      "outputs": [
        {
          "output_type": "stream",
          "text": [
            "sympy sin(x).subs(x,2) = sin(2)\n",
            "sympy sin(x).subs(x,2).evalf() = 0.909297426825682\n",
            "math.sin(2) = 0.9092974268256817\n"
          ],
          "name": "stdout"
        }
      ]
    },
    {
      "cell_type": "code",
      "metadata": {
        "colab": {
          "base_uri": "https://localhost:8080/"
        },
        "id": "9IT6bchaJGCY",
        "outputId": "1d8fa436-119f-4470-c61d-bfe7f7f2292a"
      },
      "source": [
        "# ln(1 + x)\n",
        "print('sympy ln(x).subs(x,2) =', ln(x).subs(x,2))\n",
        "print('sympy ln(x).subs(x,2).evalf() =', ln(x).subs(x,2).evalf())\n",
        "print('math.ln(2) =', math.log(2))"
      ],
      "execution_count": 39,
      "outputs": [
        {
          "output_type": "stream",
          "text": [
            "sympy ln(x).subs(x,2) = log(2)\n",
            "sympy ln(x).subs(x,2).evalf() = 0.693147180559945\n",
            "math.ln(2) = 0.6931471805599453\n"
          ],
          "name": "stdout"
        }
      ]
    },
    {
      "cell_type": "code",
      "metadata": {
        "id": "6CAcVG99Oxp4",
        "colab": {
          "base_uri": "https://localhost:8080/"
        },
        "outputId": "206306f3-6535-4a8f-ed48-d254370f8bfe"
      },
      "source": [
        "print('sympy exp(x)subs(x,2) =', exp(x).subs(x,2))\n",
        "print('sympy exp(x).subs(x,2).evalf() =', exp(x).subs(x,2).evalf())\n",
        "print('math.exp(2) =', math.exp(2))"
      ],
      "execution_count": 29,
      "outputs": [
        {
          "output_type": "stream",
          "text": [
            "sympy exp(x)subs(x,2) = exp(2)\n",
            "sympy exp(x).subs(x,2).evalf() = 7.38905609893065\n",
            "math.exp(2) = 7.38905609893065\n"
          ],
          "name": "stdout"
        }
      ]
    },
    {
      "cell_type": "markdown",
      "metadata": {
        "id": "lTJ_lerKJg3W"
      },
      "source": [
        "Graficas"
      ]
    },
    {
      "cell_type": "code",
      "metadata": {
        "id": "GMQldVC5LMgm"
      },
      "source": [
        "import math\n",
        "import numpy as np\n",
        "import matplotlib.pyplot as plt\n",
        "%matplotlib inline"
      ],
      "execution_count": 41,
      "outputs": []
    },
    {
      "cell_type": "code",
      "metadata": {
        "colab": {
          "base_uri": "https://localhost:8080/",
          "height": 265
        },
        "id": "-8w8992wLYBu",
        "outputId": "025b2ffd-e398-44ae-8468-ab8b61dda267"
      },
      "source": [
        "#sin(x)\n",
        "\n",
        "xvalues = np.arange(-5,5,0.1)\n",
        "p_sin = np.sin(xvalues)\n",
        "fig, ax = plt.subplots()\n",
        "\n",
        "for i in range(1, 5):\n",
        "  t_sin1 = [taylor(sin(x), 0, i).subs(x,v) for v in values]\n",
        "  ax.plot(values, t_sin1)\n",
        "\n",
        "\n",
        "legends = ['sin() ']\n",
        "\n",
        "\n",
        "ax.plot(values,p_sin)\n",
        "\n",
        "ax.set_ylim([-5,5])\n",
        "ax.axhline(y=0.0, xmin=-5.0, xmax=5.0, color='black')\n",
        "ax.axvline(x=0.0, ymin=-10.0, ymax=10.0, color='black')\n",
        "\n",
        "for i in range(1, 4):\n",
        "  legends.append(f'TaylorSeries {i} approx Order')\n",
        "\n",
        "ax.legend(legends)\n",
        "\n",
        "plt.show()"
      ],
      "execution_count": 46,
      "outputs": [
        {
          "output_type": "display_data",
          "data": {
            "image/png": "[encoded data removed]",
            "text/plain": [
              "<Figure size 432x288 with 1 Axes>"
            ]
          },
          "metadata": {
            "tags": [],
            "needs_background": "light"
          }
        }
      ]
    },
    {
      "cell_type": "code",
      "metadata": {
        "colab": {
          "base_uri": "https://localhost:8080/",
          "height": 301
        },
        "id": "s-xpJuOLOU2-",
        "outputId": "7766a44d-a303-4d1c-ae0e-ec300f223eb1"
      },
      "source": [
        "#ln(1 + x)\n",
        "\n",
        "xvalues = np.arange(-5,5,0.1)\n",
        "p_log = np.log(xvalues + 1)\n",
        "fig, ax = plt.subplots()\n",
        "\n",
        "for i in range(1, 5):\n",
        "  t_log1 = [taylor(log(x + 1), 0, i).subs(x,v) for v in values]\n",
        "  ax.plot(values, t_log1)\n",
        "\n",
        "\n",
        "legends = ['ln(1 + x) ']\n",
        "\n",
        "\n",
        "ax.plot(values,p_log)\n",
        "\n",
        "ax.set_ylim([-5,5])\n",
        "ax.axhline(y=0.0, xmin=-5.0, xmax=5.0, color='black')\n",
        "ax.axvline(x=0.0, ymin=-10.0, ymax=10.0, color='black')\n",
        "\n",
        "for i in range(1, 4):\n",
        "  legends.append(f'TaylorSeries {i} approx Order')\n",
        "\n",
        "ax.legend(legends)\n",
        "\n",
        "plt.show()"
      ],
      "execution_count": 49,
      "outputs": [
        {
          "output_type": "stream",
          "text": [
            "/usr/local/lib/python3.7/dist-packages/ipykernel_launcher.py:4: RuntimeWarning: invalid value encountered in log\n",
            "  after removing the cwd from sys.path.\n"
          ],
          "name": "stderr"
        },
        {
          "output_type": "display_data",
          "data": {
            "image/png": "[encoded data removed]",
            "text/plain": [
              "<Figure size 432x288 with 1 Axes>"
            ]
          },
          "metadata": {
            "tags": [],
            "needs_background": "light"
          }
        }
      ]
    },
    {
      "cell_type": "code",
      "metadata": {
        "id": "7-SIZbyzVb8I",
        "colab": {
          "base_uri": "https://localhost:8080/",
          "height": 265
        },
        "outputId": "8f707aff-a637-4e53-91cf-8df105b3b51a"
      },
      "source": [
        "values = np.arange(-5,5,0.1)\n",
        "p_exp = np.exp(xvalues)\n",
        "t_exp1 = [taylor(exp(x), 0, 1).subs(x,v) for v in values]\n",
        "legends = ['exp() ','Taylor 1 (constant)']\n",
        "\n",
        "fig, ax = plt.subplots()\n",
        "ax.plot(values,p_exp, color ='red')\n",
        "ax.plot(values,t_exp1)\n",
        "\n",
        "ax.set_ylim([-5,5])\n",
        "ax.axhline(y=0.0, xmin=-5.0, xmax=5.0, color='black')\n",
        "ax.axvline(x=0.0, ymin=-10.0, ymax=10.0, color='black')\n",
        "ax.legend(legends)\n",
        "\n",
        "plt.show()"
      ],
      "execution_count": null,
      "outputs": [
        {
          "output_type": "display_data",
          "data": {
            "image/png": "[encoded data removed]",
            "text/plain": [
              "<Figure size 432x288 with 1 Axes>"
            ]
          },
          "metadata": {
            "tags": [],
            "needs_background": "light"
          }
        }
      ]
    },
    {
      "cell_type": "code",
      "metadata": {
        "id": "nEX84A5GV6-g",
        "colab": {
          "base_uri": "https://localhost:8080/",
          "height": 265
        },
        "outputId": "75232822-2900-4773-fa7d-9415da42feb0"
      },
      "source": [
        "import math\n",
        "import numpy as np\n",
        "import matplotlib.pyplot as plt\n",
        "# if using a Jupyter notebook, include:\n",
        "%matplotlib inline\n",
        "\n",
        "values = np.arange(-5,5,0.1)\n",
        "p_exp = np.exp(xvalues)\n",
        "t_exp2 = [taylor(exp(x), 0, 2).subs(x,v) for v in values]\n",
        "legends = ['exp() ','Taylor 2 (linear)']\n",
        "\n",
        "fig, ax = plt.subplots()\n",
        "ax.plot(values,p_exp, color ='red')\n",
        "ax.plot(values,t_exp2)\n",
        "\n",
        "ax.set_ylim([-5,5])\n",
        "ax.axhline(y=0.0, xmin=-5.0, xmax=5.0, color='black')\n",
        "ax.axvline(x=0.0, ymin=-10.0, ymax=10.0, color='black')\n",
        "ax.legend(legends)\n",
        "\n",
        "plt.show()"
      ],
      "execution_count": null,
      "outputs": [
        {
          "output_type": "display_data",
          "data": {
            "image/png": "[encoded data removed]",
            "text/plain": [
              "<Figure size 432x288 with 1 Axes>"
            ]
          },
          "metadata": {
            "tags": [],
            "needs_background": "light"
          }
        }
      ]
    },
    {
      "cell_type": "code",
      "metadata": {
        "id": "0tgel982WPXX",
        "colab": {
          "base_uri": "https://localhost:8080/",
          "height": 265
        },
        "outputId": "2a94b8b5-fe54-4b23-e9fe-f922f4270224"
      },
      "source": [
        "import math\n",
        "import numpy as np\n",
        "import matplotlib.pyplot as plt\n",
        "# if using a Jupyter notebook, include:\n",
        "%matplotlib inline\n",
        "\n",
        "values = np.arange(-5,5,0.1)\n",
        "p_exp = np.exp(xvalues)\n",
        "t_exp3 = [taylor(exp(x), 0, 3).subs(x,v) for v in values]\n",
        "legends = ['exp() ','Taylor 3 (quadratic)']\n",
        "\n",
        "fig, ax = plt.subplots()\n",
        "ax.plot(values,p_exp, color ='red')\n",
        "ax.plot(values,t_exp3)\n",
        "\n",
        "ax.set_ylim([-5,5])\n",
        "ax.axhline(y=0.0, xmin=-5.0, xmax=5.0, color='black')\n",
        "ax.axvline(x=0.0, ymin=-10.0, ymax=10.0, color='black')\n",
        "ax.legend(legends)\n",
        "\n",
        "plt.show()"
      ],
      "execution_count": null,
      "outputs": [
        {
          "output_type": "display_data",
          "data": {
            "image/png": "[encoded data removed]",
            "text/plain": [
              "<Figure size 432x288 with 1 Axes>"
            ]
          },
          "metadata": {
            "tags": [],
            "needs_background": "light"
          }
        }
      ]
    },
    {
      "cell_type": "code",
      "metadata": {
        "id": "coXe9XZGWbLO",
        "colab": {
          "base_uri": "https://localhost:8080/",
          "height": 265
        },
        "outputId": "cdc1afe2-9110-44f0-efd5-f72394d09e29"
      },
      "source": [
        "import math\n",
        "import numpy as np\n",
        "import matplotlib.pyplot as plt\n",
        "# if using a Jupyter notebook, include:\n",
        "%matplotlib inline\n",
        "\n",
        "values = np.arange(-5,5,0.1)\n",
        "p_exp = np.exp(xvalues)\n",
        "t_exp4 = [taylor(exp(x), 0, 4).subs(x,v) for v in values]\n",
        "legends = ['exp() ','Taylor 4 (cubic)']\n",
        "\n",
        "fig, ax = plt.subplots()\n",
        "ax.plot(values,p_exp, color ='red')\n",
        "ax.plot(values,t_exp4)\n",
        "\n",
        "ax.set_ylim([-5,5])\n",
        "ax.axhline(y=0.0, xmin=-5.0, xmax=5.0, color='black')\n",
        "ax.axvline(x=0.0, ymin=-10.0, ymax=10.0, color='black')\n",
        "ax.legend(legends)\n",
        "\n",
        "plt.show()"
      ],
      "execution_count": null,
      "outputs": [
        {
          "output_type": "display_data",
          "data": {
            "image/png": "[encoded data removed]",
            "text/plain": [
              "<Figure size 432x288 with 1 Axes>"
            ]
          },
          "metadata": {
            "tags": [],
            "needs_background": "light"
          }
        }
      ]
    },
    {
      "cell_type": "code",
      "metadata": {
        "id": "9xTFhhEMPS1w",
        "colab": {
          "base_uri": "https://localhost:8080/",
          "height": 265
        },
        "outputId": "82655489-1274-4b3b-8bf2-1bdb3df81466"
      },
      "source": [
        "import math\n",
        "import numpy as np\n",
        "import matplotlib.pyplot as plt\n",
        "# if using a Jupyter notebook, include:\n",
        "%matplotlib inline\n",
        "\n",
        "values = np.arange(-5,5,0.1)\n",
        "p_exp = np.exp(xvalues)\n",
        "t_exp1 = [taylor(exp(x), 0, 1).subs(x,v) for v in values]\n",
        "t_exp2 = [taylor(exp(x), 0, 2).subs(x,v) for v in values]\n",
        "t_exp3 = [taylor(exp(x), 0, 3).subs(x,v) for v in values]\n",
        "t_exp4 = [taylor(exp(x), 0, 4).subs(x,v) for v in values]\n",
        "legends = ['exp() ','Taylor 1 (constant)','Taylor 3 (linear)','Taylor 3 (quadratic)','Taylor 4 (cubic)']\n",
        "\n",
        "fig, ax = plt.subplots()\n",
        "ax.plot(values,p_exp)\n",
        "ax.plot(values,t_exp1)\n",
        "ax.plot(values,t_exp2)\n",
        "ax.plot(values,t_exp3)\n",
        "ax.plot(values,t_exp4)\n",
        "\n",
        "ax.set_ylim([-5,5])\n",
        "ax.axhline(y=0.0, xmin=-5.0, xmax=5.0, color='black')\n",
        "ax.axvline(x=0.0, ymin=-10.0, ymax=10.0, color='black')\n",
        "ax.legend(legends)\n",
        "\n",
        "plt.show()"
      ],
      "execution_count": null,
      "outputs": [
        {
          "output_type": "display_data",
          "data": {
            "image/png": "[encoded data removed]",
            "text/plain": [
              "<Figure size 432x288 with 1 Axes>"
            ]
          },
          "metadata": {
            "tags": [],
            "needs_background": "light"
          }
        }
      ]
    }
  ]
}